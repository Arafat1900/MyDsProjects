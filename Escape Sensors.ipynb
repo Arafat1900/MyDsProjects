{
 "cells": [
  {
   "cell_type": "code",
   "execution_count": 2,
   "metadata": {},
   "outputs": [],
   "source": [
    "import matplotlib.pyplot as plt\n",
    "import numpy as np\n",
    "import pandas as pd\n",
    "import math as mt"
   ]
  },
  {
   "cell_type": "code",
   "execution_count": 3,
   "metadata": {},
   "outputs": [],
   "source": [
    "def prob_dt(a, b):\n",
    "    \n",
    "    S_loc = [[3,4], [7,7], [7,2], [5,2], [3,5], [8,5], [8,3]]\n",
    "    \n",
    "#    S_loc = [[3,4], [7,7], [7,2], [4,3], [5,2], [4,6], [8,5], [8,3]]\n",
    "\n",
    "#    S_loc = [[1,2], [3,5], [7,8], [8,2], [6,3], [5,7], [1,1], [8,5], [9,3], [3,1]]\n",
    "#    S_loc = [[1,2], [3,5], [7,8], [8,2], [6,3]] # Hardcoding the sensor positions\n",
    "    sigma = 3 # assigning the delta value (constant)\n",
    "    dist = [] # Intitializing the list for distance\n",
    "    x = float(a) #a[0] # Assigning variable for the x coordinate of agent position\n",
    "    y = float(b) #a[1] # Assigning variable for the y coordinate of agent position\n",
    "\n",
    "# Following loop iterates through the list of sensor positions and returns the list distances of the agent \n",
    "# from the each sensor\n",
    "    for i in S_loc:\n",
    "        x1 = i[0]\n",
    "        y1 = i[1]\n",
    "        k = (x - x1)**2 + (y - y1)**2\n",
    "        d = mt.sqrt(k)\n",
    "        dist.append(d)\n",
    "\n",
    "    dist.sort() # sorting the list\n",
    "    d1 = dist[0] # assigning the smallest distance\n",
    "    d2 = dist[1] # assigning the second smallest distance\n",
    "\n",
    "    p1 = 1/(1+((d1/sigma)**2)) # Calculating probability of registering with the closest sensor\n",
    "    p2 = 1/(1+((d2/sigma)**2)) # Calculating probability of registering with the second closest sensor\n",
    "    px = p1*p2 # total probablity of detection by the two closest sensors\n",
    "\n",
    "    return(px)"
   ]
  },
  {
   "cell_type": "code",
   "execution_count": 4,
   "metadata": {},
   "outputs": [
    {
     "data": {
      "text/plain": [
       "0.4132653061224489"
      ]
     },
     "execution_count": 4,
     "metadata": {},
     "output_type": "execute_result"
    }
   ],
   "source": [
    "prob_dt(9, 1)"
   ]
  },
  {
   "cell_type": "code",
   "execution_count": 5,
   "metadata": {},
   "outputs": [],
   "source": [
    "x = y = np.linspace(0, 10, 100) # Generating the coordinates for a 10 X 10 grid\n",
    "\n",
    "z = []\n",
    "d= []\n",
    "for i in x:\n",
    "    for j in y:\n",
    "        a = i\n",
    "        b = j\n",
    "        pr = prob_dt(a, b) # Generating the probability of detection for all the coordinates in the grid\n",
    "#        k = [a, b, pr]\n",
    "        z.append(pr)\n",
    "#       d.append(k)"
   ]
  },
  {
   "cell_type": "code",
   "execution_count": 6,
   "metadata": {},
   "outputs": [],
   "source": [
    "z = np.array(z)\n",
    "Z = z.reshape(100, 100) # Reshaping z to fit to the grid"
   ]
  },
  {
   "cell_type": "code",
   "execution_count": 7,
   "metadata": {},
   "outputs": [],
   "source": [
    "X, Y = np.meshgrid(x, y)\n"
   ]
  },
  {
   "cell_type": "code",
   "execution_count": 8,
   "metadata": {},
   "outputs": [
    {
     "data": {
      "text/plain": [
       "(100, 100)"
      ]
     },
     "execution_count": 8,
     "metadata": {},
     "output_type": "execute_result"
    }
   ],
   "source": [
    "Z.shape"
   ]
  },
  {
   "cell_type": "code",
   "execution_count": 9,
   "metadata": {},
   "outputs": [
    {
     "data": {
      "text/plain": [
       "[[3, 4], [7, 7], [7, 2], [5, 2], [3, 5], [8, 5], [8, 3]]"
      ]
     },
     "execution_count": 9,
     "metadata": {},
     "output_type": "execute_result"
    }
   ],
   "source": [
    "s_loc = [[3,4], [7,7], [7,2], [5,2], [3,5], [8,5], [8,3]]\n",
    "\n",
    "# s_loc = [[3,4], [7,7], [7,2], [4,3], [5,2], [4,6], [8,5], [8,3]]\n",
    "#s_loc = [[1,2], [3,5], [7,8], [8,2], [6,3], [5,7], [1,1], [8,5], [9,3], [3,1]]\n",
    "#S_loc = [[1,2], [3,5], [7,8], [8,2], [6,3]]\n",
    "s_loc"
   ]
  },
  {
   "cell_type": "code",
   "execution_count": 10,
   "metadata": {},
   "outputs": [],
   "source": [
    "j = []\n",
    "k = []\n",
    "\n",
    "for i in s_loc:\n",
    "    a = i[0]\n",
    "    b = i[1]\n",
    "    j.append(a) # assigning the coordinates of the sensors for plotting\n",
    "    k.append(b) "
   ]
  },
  {
   "cell_type": "code",
   "execution_count": 11,
   "metadata": {},
   "outputs": [
    {
     "data": {
      "text/plain": [
       "[<matplotlib.lines.Line2D at 0x122db77f0>]"
      ]
     },
     "execution_count": 11,
     "metadata": {},
     "output_type": "execute_result"
    },
    {
     "data": {
      "image/png": "[encoded data removed]",
      "text/plain": [
       "<Figure size 432x288 with 2 Axes>"
      ]
     },
     "metadata": {
      "needs_background": "light"
     },
     "output_type": "display_data"
    }
   ],
   "source": [
    "plt.contourf(X, Y, Z, 30)\n",
    "#plt.clabel(contours, inline=True, fontsize=8)\n",
    "plt.colorbar()\n",
    "plt.plot(k, j, 'ro')"
   ]
  },
  {
   "cell_type": "code",
   "execution_count": 111,
   "metadata": {},
   "outputs": [],
   "source": [
    "# plt.contourf(X, Y, Z, 30)\n",
    "# #plt.clabel(contours, inline=True, fontsize=8)\n",
    "# plt.colorbar()\n",
    "# plt.plot(j, k, 'ro')"
   ]
  },
  {
   "cell_type": "code",
   "execution_count": 12,
   "metadata": {},
   "outputs": [
    {
     "data": {
      "text/plain": [
       "[<matplotlib.lines.Line2D at 0x122f9d5e0>]"
      ]
     },
     "execution_count": 12,
     "metadata": {},
     "output_type": "execute_result"
    },
    {
     "data": {
      "image/png": "[encoded data removed]",
      "text/plain": [
       "<Figure size 432x288 with 2 Axes>"
      ]
     },
     "metadata": {
      "needs_background": "light"
     },
     "output_type": "display_data"
    }
   ],
   "source": [
    "plt.contourf(X, Y, Z, 30)\n",
    "#plt.clabel(contours, inline=True, fontsize=8)\n",
    "plt.colorbar()\n",
    "plt.plot(k, j, 'ro')"
   ]
  },
  {
   "cell_type": "markdown",
   "metadata": {},
   "source": [
    "#### Building a path"
   ]
  },
  {
   "cell_type": "code",
   "execution_count": 354,
   "metadata": {},
   "outputs": [],
   "source": [
    "x = np.linspace(0, 5, 100)\n",
    "y = np.linspace(0, 6, 100)"
   ]
  },
  {
   "cell_type": "code",
   "execution_count": 355,
   "metadata": {},
   "outputs": [
    {
     "data": {
      "text/plain": [
       "100"
      ]
     },
     "execution_count": 355,
     "metadata": {},
     "output_type": "execute_result"
    }
   ],
   "source": [
    "len(x)"
   ]
  },
  {
   "cell_type": "code",
   "execution_count": 356,
   "metadata": {
    "scrolled": true
   },
   "outputs": [
    {
     "data": {
      "text/plain": [
       "100"
      ]
     },
     "execution_count": 356,
     "metadata": {},
     "output_type": "execute_result"
    }
   ],
   "source": [
    "len(y)"
   ]
  },
  {
   "cell_type": "markdown",
   "metadata": {},
   "source": [
    "#### Cost Function calculation - "
   ]
  },
  {
   "cell_type": "code",
   "execution_count": 119,
   "metadata": {},
   "outputs": [],
   "source": [
    "n = 100 # number of time intervals \n",
    "dt = 1/n # delta_t ; size of each time interval\n",
    "\n",
    "x = np.linspace(0, 5, n+1) # generating the x coordinates for the path\n",
    "y = np.linspace(0, 6, n+1) # generating the y coordinates for the path"
   ]
  },
  {
   "cell_type": "code",
   "execution_count": 120,
   "metadata": {},
   "outputs": [
    {
     "name": "stdout",
     "output_type": "stream",
     "text": [
      "61.64437765778931\n"
     ]
    }
   ],
   "source": [
    "# below part code calculates the speed over the traversed part for the velocity component of the cost function\n",
    "\n",
    "x_s1 = []\n",
    "y_s1 = []\n",
    "\n",
    "for i in range(n): # looping through n time intervals from the start point (0,0) to n leaving behind n+1\n",
    "    kx = ((x[i+1] - x[i])**2)/(dt**2) # calculating the speed over the x coordinates\n",
    "    x_s1.append(kx)\n",
    "\n",
    "x_s2 = sum(x_s1)*dt\n",
    "\n",
    "for i in range(n): # looping through n time intervals from the start point (0,0) to n leaving behind n+1\n",
    "    ky = ((y[i+1] - y[i])**2)/(dt**2) # calculating the speed over the y coordinates\n",
    "    y_s1.append(ky)\n",
    "\n",
    "y_s2 = sum(y_s1)*dt\n",
    "\n",
    "xy_speed = x_s2 + y_s2 # final speed over the traversed path\n",
    "\n",
    "# below part of the code calculates the total probability of detection along the path for the cost function\n",
    "\n",
    "p_xy = []\n",
    "\n",
    "for i in range(n):\n",
    "    a = x[i]\n",
    "    b = y[i]\n",
    "    pd = prob_dt(a, b)\n",
    "    p_xy.append(pd)\n",
    "\n",
    "p_xy_ttl = (sum(p_xy))*dt\n",
    "\n",
    "# Below step calculates the total cost as a sum od the speed component and the total probibility of detection along the path\n",
    "\n",
    "cost = xy_speed + p_xy_ttl\n",
    "print(cost)"
   ]
  },
  {
   "cell_type": "code",
   "execution_count": 93,
   "metadata": {},
   "outputs": [
    {
     "data": {
      "text/plain": [
       "(25.00000000000001, 35.99999999999997, 60.999999999999986, 0.6443776577893301)"
      ]
     },
     "execution_count": 93,
     "metadata": {},
     "output_type": "execute_result"
    }
   ],
   "source": [
    "x_s2, y_s2, xy_speed, p_xy_ttl"
   ]
  },
  {
   "cell_type": "markdown",
   "metadata": {},
   "source": [
    "#### Packaging the cost function"
   ]
  },
  {
   "cell_type": "code",
   "execution_count": 13,
   "metadata": {},
   "outputs": [],
   "source": [
    "n = 100 # number of time intervals \n",
    "dt = 10/n # delta_t ; size of each time interval\n",
    "\n",
    "x0 = np.linspace(0, 5, n+1) # generating the x coordinates for the path\n",
    "y0 = np.linspace(0, 6, n+1) # generating the y coordinates for the path"
   ]
  },
  {
   "cell_type": "code",
   "execution_count": 14,
   "metadata": {},
   "outputs": [
    {
     "data": {
      "text/plain": [
       "(4.95, 5.9399999999999995, 5.0, 6.0)"
      ]
     },
     "execution_count": 14,
     "metadata": {},
     "output_type": "execute_result"
    }
   ],
   "source": [
    "x0[99], y0[99], x0[100], y0[100]"
   ]
  },
  {
   "cell_type": "code",
   "execution_count": 15,
   "metadata": {},
   "outputs": [
    {
     "data": {
      "text/plain": [
       "(0.0, 0.0, 0.05, 0.06)"
      ]
     },
     "execution_count": 15,
     "metadata": {},
     "output_type": "execute_result"
    }
   ],
   "source": [
    "x0[0], y0[0], x0[1], y0[1]"
   ]
  },
  {
   "cell_type": "code",
   "execution_count": 16,
   "metadata": {},
   "outputs": [
    {
     "data": {
      "text/plain": [
       "(array([0.05, 0.1 , 0.15, 0.2 , 0.25, 0.3 , 0.35, 0.4 , 0.45, 0.5 , 0.55,\n",
       "        0.6 , 0.65, 0.7 , 0.75, 0.8 , 0.85, 0.9 , 0.95, 1.  , 1.05, 1.1 ,\n",
       "        1.15, 1.2 , 1.25, 1.3 , 1.35, 1.4 , 1.45, 1.5 , 1.55, 1.6 , 1.65,\n",
       "        1.7 , 1.75, 1.8 , 1.85, 1.9 , 1.95, 2.  , 2.05, 2.1 , 2.15, 2.2 ,\n",
       "        2.25, 2.3 , 2.35, 2.4 , 2.45, 2.5 , 2.55, 2.6 , 2.65, 2.7 , 2.75,\n",
       "        2.8 , 2.85, 2.9 , 2.95, 3.  , 3.05, 3.1 , 3.15, 3.2 , 3.25, 3.3 ,\n",
       "        3.35, 3.4 , 3.45, 3.5 , 3.55, 3.6 , 3.65, 3.7 , 3.75, 3.8 , 3.85,\n",
       "        3.9 , 3.95, 4.  , 4.05, 4.1 , 4.15, 4.2 , 4.25, 4.3 , 4.35, 4.4 ,\n",
       "        4.45, 4.5 , 4.55, 4.6 , 4.65, 4.7 , 4.75, 4.8 , 4.85, 4.9 , 4.95]),\n",
       " array([0.06, 0.12, 0.18, 0.24, 0.3 , 0.36, 0.42, 0.48, 0.54, 0.6 , 0.66,\n",
       "        0.72, 0.78, 0.84, 0.9 , 0.96, 1.02, 1.08, 1.14, 1.2 , 1.26, 1.32,\n",
       "        1.38, 1.44, 1.5 , 1.56, 1.62, 1.68, 1.74, 1.8 , 1.86, 1.92, 1.98,\n",
       "        2.04, 2.1 , 2.16, 2.22, 2.28, 2.34, 2.4 , 2.46, 2.52, 2.58, 2.64,\n",
       "        2.7 , 2.76, 2.82, 2.88, 2.94, 3.  , 3.06, 3.12, 3.18, 3.24, 3.3 ,\n",
       "        3.36, 3.42, 3.48, 3.54, 3.6 , 3.66, 3.72, 3.78, 3.84, 3.9 , 3.96,\n",
       "        4.02, 4.08, 4.14, 4.2 , 4.26, 4.32, 4.38, 4.44, 4.5 , 4.56, 4.62,\n",
       "        4.68, 4.74, 4.8 , 4.86, 4.92, 4.98, 5.04, 5.1 , 5.16, 5.22, 5.28,\n",
       "        5.34, 5.4 , 5.46, 5.52, 5.58, 5.64, 5.7 , 5.76, 5.82, 5.88, 5.94]))"
      ]
     },
     "execution_count": 16,
     "metadata": {},
     "output_type": "execute_result"
    }
   ],
   "source": [
    "x0[1:100], y0[1:100]"
   ]
  },
  {
   "cell_type": "code",
   "execution_count": 17,
   "metadata": {},
   "outputs": [],
   "source": [
    "z = np.concatenate((x0[1:100], y0[1:100])) # creating the path barring the start and the end point (0,0) and (5,6)"
   ]
  },
  {
   "cell_type": "code",
   "execution_count": 18,
   "metadata": {},
   "outputs": [
    {
     "data": {
      "text/plain": [
       "(198, 97)"
      ]
     },
     "execution_count": 18,
     "metadata": {},
     "output_type": "execute_result"
    }
   ],
   "source": [
    "len(z), int(len(z)/2 - 2)"
   ]
  },
  {
   "cell_type": "code",
   "execution_count": 19,
   "metadata": {},
   "outputs": [
    {
     "data": {
      "text/plain": [
       "(0.05, 4.95, 0.06, 5.9399999999999995)"
      ]
     },
     "execution_count": 19,
     "metadata": {},
     "output_type": "execute_result"
    }
   ],
   "source": [
    "z[0], z[98], z[99], z[197]"
   ]
  },
  {
   "cell_type": "code",
   "execution_count": 20,
   "metadata": {},
   "outputs": [
    {
     "data": {
      "text/plain": [
       "(array([0.05, 0.1 , 0.15, 0.2 , 0.25, 0.3 , 0.35, 0.4 , 0.45, 0.5 , 0.55,\n",
       "        0.6 , 0.65, 0.7 , 0.75, 0.8 , 0.85, 0.9 , 0.95, 1.  , 1.05, 1.1 ,\n",
       "        1.15, 1.2 , 1.25, 1.3 , 1.35, 1.4 , 1.45, 1.5 , 1.55, 1.6 , 1.65,\n",
       "        1.7 , 1.75, 1.8 , 1.85, 1.9 , 1.95, 2.  , 2.05, 2.1 , 2.15, 2.2 ,\n",
       "        2.25, 2.3 , 2.35, 2.4 , 2.45, 2.5 , 2.55, 2.6 , 2.65, 2.7 , 2.75,\n",
       "        2.8 , 2.85, 2.9 , 2.95, 3.  , 3.05, 3.1 , 3.15, 3.2 , 3.25, 3.3 ,\n",
       "        3.35, 3.4 , 3.45, 3.5 , 3.55, 3.6 , 3.65, 3.7 , 3.75, 3.8 , 3.85,\n",
       "        3.9 , 3.95, 4.  , 4.05, 4.1 , 4.15, 4.2 , 4.25, 4.3 , 4.35, 4.4 ,\n",
       "        4.45, 4.5 , 4.55, 4.6 , 4.65, 4.7 , 4.75, 4.8 , 4.85, 4.9 , 4.95]),\n",
       " array([0.06, 0.12, 0.18, 0.24, 0.3 , 0.36, 0.42, 0.48, 0.54, 0.6 , 0.66,\n",
       "        0.72, 0.78, 0.84, 0.9 , 0.96, 1.02, 1.08, 1.14, 1.2 , 1.26, 1.32,\n",
       "        1.38, 1.44, 1.5 , 1.56, 1.62, 1.68, 1.74, 1.8 , 1.86, 1.92, 1.98,\n",
       "        2.04, 2.1 , 2.16, 2.22, 2.28, 2.34, 2.4 , 2.46, 2.52, 2.58, 2.64,\n",
       "        2.7 , 2.76, 2.82, 2.88, 2.94, 3.  , 3.06, 3.12, 3.18, 3.24, 3.3 ,\n",
       "        3.36, 3.42, 3.48, 3.54, 3.6 , 3.66, 3.72, 3.78, 3.84, 3.9 , 3.96,\n",
       "        4.02, 4.08, 4.14, 4.2 , 4.26, 4.32, 4.38, 4.44, 4.5 , 4.56, 4.62,\n",
       "        4.68, 4.74, 4.8 , 4.86, 4.92, 4.98, 5.04, 5.1 , 5.16, 5.22, 5.28,\n",
       "        5.34, 5.4 , 5.46, 5.52, 5.58, 5.64, 5.7 , 5.76, 5.82, 5.88, 5.94]))"
      ]
     },
     "execution_count": 20,
     "metadata": {},
     "output_type": "execute_result"
    }
   ],
   "source": [
    "z[0:99], z[99:198]"
   ]
  },
  {
   "cell_type": "code",
   "execution_count": 21,
   "metadata": {},
   "outputs": [
    {
     "data": {
      "text/plain": [
       "(4.95, 5.9399999999999995)"
      ]
     },
     "execution_count": 21,
     "metadata": {},
     "output_type": "execute_result"
    }
   ],
   "source": [
    "x7 = z[0:99]\n",
    "y7 = z[99:198]\n",
    "x7[98],y7[98]"
   ]
  },
  {
   "cell_type": "markdown",
   "metadata": {},
   "source": [
    "## Cost function with the kinetic and probability component"
   ]
  },
  {
   "cell_type": "code",
   "execution_count": 22,
   "metadata": {},
   "outputs": [],
   "source": [
    "def cost(z):\n",
    "\n",
    "# fixing the start and the fix point\n",
    "    x_start = 0.0\n",
    "    y_start = 0.0\n",
    "    x_finish = 5.0\n",
    "    y_finish = 6.0\n",
    "# below part code calculates the speed over the traversed part for the velocity component of the cost function\n",
    "\n",
    "    x = z[0:99]\n",
    "    y = z[99:198]\n",
    "#    nn = int(len(z)/2 - 2)\n",
    "\n",
    "    x_s1 = []\n",
    "    y_s1 = []\n",
    "\n",
    "    for i in range(len(x) - 1): # looping through n time intervals from the start point (0,0) to n leaving behind n+1\n",
    "        kx = ((x[i+1] - x[i])**2)/(dt**2) # calculating the speed over the x coordinates\n",
    "        x_s1.append(kx)\n",
    "\n",
    "    x_s2 = sum(x_s1)*dt\n",
    "\n",
    "    for i in range(len(y) - 1): # looping through n time intervals from the start point (0,0) to n leaving behind n+1\n",
    "        ky = ((y[i+1] - y[i])**2)/(dt**2) # calculating the speed over the y coordinates\n",
    "        y_s1.append(ky)\n",
    "\n",
    "    y_s2 = sum(y_s1)*dt\n",
    "\n",
    "    # Calculating the speed component for the start and the finish points - \n",
    "    \n",
    "    # start point\n",
    "    \n",
    "    x_s3 = ((x[0] - x_start)**2)/(dt)\n",
    "    y_s3 = ((y[0] - y_start)**2)/(dt)\n",
    "    xy_st = x_s3 + y_s3\n",
    "    \n",
    "    # finish point\n",
    "    \n",
    "    x_s4 = ((x_finish - x[98])**2)/(dt)\n",
    "    y_s4 = ((y_finish - y[98])**2)/(dt)\n",
    "    xy_fn = x_s4 + y_s4\n",
    "    \n",
    "    # Total final speed cost \n",
    "    \n",
    "    xy_speed = 0.01*(x_s2 + y_s2 + xy_st + xy_fn) # final speed over the traversed path including start and end points\n",
    "    \n",
    "\n",
    "# below part of the code calculates the total probability of detection along the path for the cost function\n",
    "\n",
    "    p_xy = []\n",
    "\n",
    "    for i in range(len(x)):\n",
    "        a = x[i]\n",
    "        b = y[i]\n",
    "        pd = prob_dt(a, b)\n",
    "        p_xy.append(pd)\n",
    "\n",
    "#    p_xy_ttl = (sum(p_xy))*dt\n",
    "    \n",
    "    # Probablity of detection at start and end points \n",
    "    \n",
    "    pd_st = prob_dt(x_start, y_start)\n",
    "    pd_fn = prob_dt(x_finish, y_finish)\n",
    "    \n",
    "    # total probability of detection -\n",
    "\n",
    "    p_xy_ttl = (sum(p_xy) + pd_st + pd_fn)*dt\n",
    "    \n",
    "\n",
    "# Below step calculates the total cost as a sum od the speed component and the total probibility of detection along the path\n",
    "\n",
    "    cost = xy_speed + p_xy_ttl\n",
    "    return(cost)"
   ]
  },
  {
   "cell_type": "code",
   "execution_count": 29,
   "metadata": {},
   "outputs": [
    {
     "data": {
      "text/plain": [
       "4.7675560489604285"
      ]
     },
     "execution_count": 29,
     "metadata": {},
     "output_type": "execute_result"
    }
   ],
   "source": [
    "cost(z)"
   ]
  },
  {
   "cell_type": "markdown",
   "metadata": {},
   "source": [
    "## Cost function with probability component only"
   ]
  },
  {
   "cell_type": "code",
   "execution_count": 26,
   "metadata": {},
   "outputs": [],
   "source": [
    "def cost_prob(z):\n",
    "\n",
    "# fixing the start and the fix point\n",
    "    x_start = 0.0\n",
    "    y_start = 0.0\n",
    "    x_finish = 5.0\n",
    "    y_finish = 6.0\n",
    "\n",
    "    x = z[0:99]\n",
    "    y = z[99:198]\n",
    "\n",
    "# below part of the code calculates the total probability of detection along the path for the cost function\n",
    "\n",
    "    p_xy = []\n",
    "\n",
    "    for i in range(len(x)):\n",
    "        a = x[i]\n",
    "        b = y[i]\n",
    "        pd = prob_dt(a, b)\n",
    "        p_xy.append(pd)\n",
    "\n",
    "#    p_xy_ttl = (sum(p_xy))*dt\n",
    "    \n",
    "    # Probablity of detection at start and end points \n",
    "    \n",
    "    pd_st = prob_dt(x_start, y_start)\n",
    "    pd_fn = prob_dt(x_finish, y_finish)\n",
    "    \n",
    "    # total probability of detection -\n",
    "\n",
    "    p_xy_ttl = (sum(p_xy) + pd_st + pd_fn)*dt\n",
    "    cost = p_xy_ttl\n",
    "    return(cost)"
   ]
  },
  {
   "cell_type": "code",
   "execution_count": 28,
   "metadata": {},
   "outputs": [
    {
     "data": {
      "text/plain": [
       "4.706556048960429"
      ]
     },
     "execution_count": 28,
     "metadata": {},
     "output_type": "execute_result"
    }
   ],
   "source": [
    "cost_prob(z)"
   ]
  },
  {
   "cell_type": "markdown",
   "metadata": {},
   "source": [
    "#### Minimizing the cost( )"
   ]
  },
  {
   "cell_type": "code",
   "execution_count": 24,
   "metadata": {},
   "outputs": [],
   "source": [
    "from scipy.optimize import minimize"
   ]
  },
  {
   "cell_type": "code",
   "execution_count": 31,
   "metadata": {
    "scrolled": true
   },
   "outputs": [
    {
     "data": {
      "text/plain": [
       "array([0.05507818, 0.15993288, 0.29425449, 0.35150512, 0.51043534,\n",
       "       0.39805259, 0.46427761, 0.59366586, 0.65115901, 0.72274163,\n",
       "       0.75251729, 0.80096114, 0.77143916, 0.84102501, 0.91785896,\n",
       "       0.94398348, 1.0013919 , 1.0502481 , 1.18688801, 1.17680391,\n",
       "       1.11689806, 1.12573855, 1.18482274, 1.20386665, 1.19583842,\n",
       "       1.18610461, 1.21657675, 1.24117552, 1.27356555, 1.299988  ,\n",
       "       1.3218895 , 1.32702315, 1.3068979 , 1.26482913, 1.17237642,\n",
       "       1.16369426, 1.19879651, 1.28159377, 1.30809882, 1.43267004,\n",
       "       1.53186431, 1.60628958, 1.7113462 , 1.7228717 , 1.74849386,\n",
       "       1.74297923, 1.72041425, 1.71923177, 1.77566105, 1.83313966,\n",
       "       1.90971612, 1.97244493, 2.0358045 , 2.04109748, 2.07328769,\n",
       "       2.09312383, 2.13976939, 2.19569555, 2.32738697, 2.48499984,\n",
       "       2.64776492, 2.79422859, 2.97780715, 3.20675174, 3.5310836 ,\n",
       "       3.90554986, 4.35382628, 4.68805919, 4.99817951, 5.28134639,\n",
       "       5.49420234, 5.56549661, 5.62506009, 5.68362691, 5.68966782,\n",
       "       5.69468404, 5.69866923, 5.60718841, 5.502122  , 5.48514659,\n",
       "       5.48638292, 5.47675459, 5.49520018, 5.55206711, 5.52271822,\n",
       "       5.50248432, 5.48490887, 5.47149825, 5.45929992, 5.47389845,\n",
       "       5.47054464, 5.43621734, 5.44944956, 5.48882059, 5.48554895,\n",
       "       5.45038779, 5.38530226, 5.2956834 , 5.16826166, 0.18348534,\n",
       "       0.10921907, 0.09169949, 0.06840327, 0.07300085, 0.2141831 ,\n",
       "       0.38023737, 0.54766827, 0.5896867 , 0.58010846, 0.56688178,\n",
       "       0.60099846, 0.6621769 , 0.82995131, 0.97797164, 1.10840701,\n",
       "       1.16062926, 1.18282923, 1.27301501, 1.4219012 , 1.54398474,\n",
       "       1.61740829, 1.61317085, 1.59256237, 1.59561877, 1.63480892,\n",
       "       1.69863377, 1.70115969, 1.73278266, 1.74248946, 1.73912413,\n",
       "       1.73626968, 1.77779698, 1.7947558 , 1.78378659, 1.77858985,\n",
       "       1.71597428, 1.68030267, 1.69163831, 1.70338821, 1.64532154,\n",
       "       1.60500076, 1.55258412, 1.50396248, 1.56004371, 1.62143094,\n",
       "       1.66916475, 1.65306358, 1.617627  , 1.61445198, 1.64074581,\n",
       "       1.71310695, 1.74228987, 1.70823357, 1.69840527, 1.73476806,\n",
       "       1.80013364, 1.90458727, 1.97850391, 2.07686589, 2.27334729,\n",
       "       2.45689386, 2.70531876, 2.9455786 , 3.17362968, 3.42488721,\n",
       "       3.69806031, 3.94840191, 4.15551542, 4.35390177, 4.49421862,\n",
       "       4.56441706, 4.61173912, 4.62633678, 4.62599445, 4.62006193,\n",
       "       4.69729371, 4.81078034, 4.95336459, 5.06039567, 5.15267415,\n",
       "       5.23209477, 5.29597962, 5.41088337, 5.56505801, 5.74232801,\n",
       "       5.82503538, 5.86355575, 5.85927803, 5.87090143, 5.88839897,\n",
       "       5.87077785, 5.91020928, 5.96208305, 6.01153257, 6.02174085,\n",
       "       6.06594361, 6.09475087, 6.09982354])"
      ]
     },
     "execution_count": 31,
     "metadata": {},
     "output_type": "execute_result"
    }
   ],
   "source": [
    "res = minimize(cost, z, method='Nelder-Mead', tol=1e-6)\n",
    "res.x"
   ]
  },
  {
   "cell_type": "code",
   "execution_count": 32,
   "metadata": {},
   "outputs": [],
   "source": [
    "p = (res.x) # assigning the output of minimization to a variable"
   ]
  },
  {
   "cell_type": "code",
   "execution_count": 33,
   "metadata": {},
   "outputs": [
    {
     "data": {
      "text/plain": [
       "(array([0.05507818, 0.15993288, 0.29425449, 0.35150512, 0.51043534,\n",
       "        0.39805259, 0.46427761, 0.59366586, 0.65115901, 0.72274163,\n",
       "        0.75251729, 0.80096114, 0.77143916, 0.84102501, 0.91785896,\n",
       "        0.94398348, 1.0013919 , 1.0502481 , 1.18688801, 1.17680391,\n",
       "        1.11689806, 1.12573855, 1.18482274, 1.20386665, 1.19583842,\n",
       "        1.18610461, 1.21657675, 1.24117552, 1.27356555, 1.299988  ,\n",
       "        1.3218895 , 1.32702315, 1.3068979 , 1.26482913, 1.17237642,\n",
       "        1.16369426, 1.19879651, 1.28159377, 1.30809882, 1.43267004,\n",
       "        1.53186431, 1.60628958, 1.7113462 , 1.7228717 , 1.74849386,\n",
       "        1.74297923, 1.72041425, 1.71923177, 1.77566105, 1.83313966,\n",
       "        1.90971612, 1.97244493, 2.0358045 , 2.04109748, 2.07328769,\n",
       "        2.09312383, 2.13976939, 2.19569555, 2.32738697, 2.48499984,\n",
       "        2.64776492, 2.79422859, 2.97780715, 3.20675174, 3.5310836 ,\n",
       "        3.90554986, 4.35382628, 4.68805919, 4.99817951, 5.28134639,\n",
       "        5.49420234, 5.56549661, 5.62506009, 5.68362691, 5.68966782,\n",
       "        5.69468404, 5.69866923, 5.60718841, 5.502122  , 5.48514659,\n",
       "        5.48638292, 5.47675459, 5.49520018, 5.55206711, 5.52271822,\n",
       "        5.50248432, 5.48490887, 5.47149825, 5.45929992, 5.47389845,\n",
       "        5.47054464, 5.43621734, 5.44944956, 5.48882059, 5.48554895,\n",
       "        5.45038779, 5.38530226, 5.2956834 , 5.16826166]),\n",
       " array([0.18348534, 0.10921907, 0.09169949, 0.06840327, 0.07300085,\n",
       "        0.2141831 , 0.38023737, 0.54766827, 0.5896867 , 0.58010846,\n",
       "        0.56688178, 0.60099846, 0.6621769 , 0.82995131, 0.97797164,\n",
       "        1.10840701, 1.16062926, 1.18282923, 1.27301501, 1.4219012 ,\n",
       "        1.54398474, 1.61740829, 1.61317085, 1.59256237, 1.59561877,\n",
       "        1.63480892, 1.69863377, 1.70115969, 1.73278266, 1.74248946,\n",
       "        1.73912413, 1.73626968, 1.77779698, 1.7947558 , 1.78378659,\n",
       "        1.77858985, 1.71597428, 1.68030267, 1.69163831, 1.70338821,\n",
       "        1.64532154, 1.60500076, 1.55258412, 1.50396248, 1.56004371,\n",
       "        1.62143094, 1.66916475, 1.65306358, 1.617627  , 1.61445198,\n",
       "        1.64074581, 1.71310695, 1.74228987, 1.70823357, 1.69840527,\n",
       "        1.73476806, 1.80013364, 1.90458727, 1.97850391, 2.07686589,\n",
       "        2.27334729, 2.45689386, 2.70531876, 2.9455786 , 3.17362968,\n",
       "        3.42488721, 3.69806031, 3.94840191, 4.15551542, 4.35390177,\n",
       "        4.49421862, 4.56441706, 4.61173912, 4.62633678, 4.62599445,\n",
       "        4.62006193, 4.69729371, 4.81078034, 4.95336459, 5.06039567,\n",
       "        5.15267415, 5.23209477, 5.29597962, 5.41088337, 5.56505801,\n",
       "        5.74232801, 5.82503538, 5.86355575, 5.85927803, 5.87090143,\n",
       "        5.88839897, 5.87077785, 5.91020928, 5.96208305, 6.01153257,\n",
       "        6.02174085, 6.06594361, 6.09475087, 6.09982354]))"
      ]
     },
     "execution_count": 33,
     "metadata": {},
     "output_type": "execute_result"
    }
   ],
   "source": [
    "p[0:99], p[99:198]"
   ]
  },
  {
   "cell_type": "code",
   "execution_count": 38,
   "metadata": {},
   "outputs": [
    {
     "data": {
      "text/plain": [
       "(array([0.05, 0.1 , 0.15, 0.2 , 0.25, 0.3 , 0.35, 0.4 , 0.45, 0.5 , 0.55,\n",
       "        0.6 , 0.65, 0.7 , 0.75, 0.8 , 0.85, 0.9 , 0.95, 1.  , 1.05, 1.1 ,\n",
       "        1.15, 1.2 , 1.25, 1.3 , 1.35, 1.4 , 1.45, 1.5 , 1.55, 1.6 , 1.65,\n",
       "        1.7 , 1.75, 1.8 , 1.85, 1.9 , 1.95, 2.  , 2.05, 2.1 , 2.15, 2.2 ,\n",
       "        2.25, 2.3 , 2.35, 2.4 , 2.45, 2.5 , 2.55, 2.6 , 2.65, 2.7 , 2.75,\n",
       "        2.8 , 2.85, 2.9 , 2.95, 3.  , 3.05, 3.1 , 3.15, 3.2 , 3.25, 3.3 ,\n",
       "        3.35, 3.4 , 3.45, 3.5 , 3.55, 3.6 , 3.65, 3.7 , 3.75, 3.8 , 3.85,\n",
       "        3.9 , 3.95, 4.  , 4.05, 4.1 , 4.15, 4.2 , 4.25, 4.3 , 4.35, 4.4 ,\n",
       "        4.45, 4.5 , 4.55, 4.6 , 4.65, 4.7 , 4.75, 4.8 , 4.85, 4.9 , 4.95]),\n",
       " array([0.06, 0.12, 0.18, 0.24, 0.3 , 0.36, 0.42, 0.48, 0.54, 0.6 , 0.66,\n",
       "        0.72, 0.78, 0.84, 0.9 , 0.96, 1.02, 1.08, 1.14, 1.2 , 1.26, 1.32,\n",
       "        1.38, 1.44, 1.5 , 1.56, 1.62, 1.68, 1.74, 1.8 , 1.86, 1.92, 1.98,\n",
       "        2.04, 2.1 , 2.16, 2.22, 2.28, 2.34, 2.4 , 2.46, 2.52, 2.58, 2.64,\n",
       "        2.7 , 2.76, 2.82, 2.88, 2.94, 3.  , 3.06, 3.12, 3.18, 3.24, 3.3 ,\n",
       "        3.36, 3.42, 3.48, 3.54, 3.6 , 3.66, 3.72, 3.78, 3.84, 3.9 , 3.96,\n",
       "        4.02, 4.08, 4.14, 4.2 , 4.26, 4.32, 4.38, 4.44, 4.5 , 4.56, 4.62,\n",
       "        4.68, 4.74, 4.8 , 4.86, 4.92, 4.98, 5.04, 5.1 , 5.16, 5.22, 5.28,\n",
       "        5.34, 5.4 , 5.46, 5.52, 5.58, 5.64, 5.7 , 5.76, 5.82, 5.88, 5.94]))"
      ]
     },
     "execution_count": 38,
     "metadata": {},
     "output_type": "execute_result"
    }
   ],
   "source": [
    "z[0:99], z[99:198]"
   ]
  },
  {
   "cell_type": "code",
   "execution_count": 35,
   "metadata": {},
   "outputs": [
    {
     "data": {
      "text/plain": [
       "(3.1237721630994284, 198)"
      ]
     },
     "execution_count": 35,
     "metadata": {},
     "output_type": "execute_result"
    }
   ],
   "source": [
    "cost(p), len(p)"
   ]
  },
  {
   "cell_type": "code",
   "execution_count": 441,
   "metadata": {},
   "outputs": [
    {
     "data": {
      "text/plain": [
       "[<matplotlib.lines.Line2D at 0x12a06beb0>]"
      ]
     },
     "execution_count": 441,
     "metadata": {},
     "output_type": "execute_result"
    },
    {
     "data": {
      "image/png": "[encoded data removed]",
      "text/plain": [
       "<Figure size 432x288 with 2 Axes>"
      ]
     },
     "metadata": {
      "needs_background": "light"
     },
     "output_type": "display_data"
    }
   ],
   "source": [
    "plt.contourf(X, Y, Z, 30)\n",
    "#plt.clabel(contours, inline=True, fontsize=8)\n",
    "plt.colorbar()\n",
    "plt.plot(k, j, 'ro')"
   ]
  },
  {
   "cell_type": "code",
   "execution_count": 36,
   "metadata": {},
   "outputs": [],
   "source": [
    "x1 = p[0:99]\n",
    "y1 = p[99:198]"
   ]
  },
  {
   "cell_type": "code",
   "execution_count": 37,
   "metadata": {},
   "outputs": [
    {
     "data": {
      "text/plain": [
       "[<matplotlib.lines.Line2D at 0x124a8ae20>]"
      ]
     },
     "execution_count": 37,
     "metadata": {},
     "output_type": "execute_result"
    },
    {
     "data": {
      "image/png": "[encoded data removed]",
      "text/plain": [
       "<Figure size 432x288 with 2 Axes>"
      ]
     },
     "metadata": {
      "needs_background": "light"
     },
     "output_type": "display_data"
    }
   ],
   "source": [
    "plt.contourf(X, Y, Z, 30)\n",
    "#plt.clabel(contours, inline=True, fontsize=8)\n",
    "plt.colorbar()\n",
    "plt.plot(k, j, 'ro')\n",
    "plt.plot(x0, y0, 'orange')\n",
    "plt.plot(x1, y1, 'blue')"
   ]
  },
  {
   "cell_type": "markdown",
   "metadata": {},
   "source": [
    "#### Minimizing the cost_prob( )"
   ]
  },
  {
   "cell_type": "code",
   "execution_count": 39,
   "metadata": {
    "scrolled": true
   },
   "outputs": [
    {
     "data": {
      "text/plain": [
       "array([-2.08821180e-01, -6.54216866e-01,  5.87225345e-01,  1.38311002e+00,\n",
       "        1.88044723e+00,  1.73934256e-01, -5.34595297e-01,  2.16967211e+00,\n",
       "        1.12556166e+00, -1.50725114e+00,  5.57562828e-01, -4.92968683e+00,\n",
       "       -1.57319355e+00, -2.47740309e+00, -3.33796743e+00, -1.08676145e+01,\n",
       "       -5.06549180e+00, -1.05344361e+01, -5.11827524e+00, -1.16341380e+01,\n",
       "       -1.05873945e+01, -5.21252701e+00, -1.59165914e+00, -2.44010756e+00,\n",
       "       -4.73277114e+00, -3.72345066e-01, -9.61614290e-02, -2.36372924e+01,\n",
       "       -1.40288745e+01, -1.45382020e+01,  9.04077248e+00, -2.79937158e+01,\n",
       "       -6.11167124e-01, -9.73051945e+00, -2.78898345e+01, -5.29126849e+00,\n",
       "       -1.58809469e+01, -3.68773589e+00,  2.93570625e+00,  2.52225596e+01,\n",
       "        1.97600994e+01,  1.32501155e+01,  1.43826082e+01,  1.85717745e+01,\n",
       "        2.63517922e+01, -3.39495418e+00, -2.47087251e+00,  1.08591983e+01,\n",
       "        2.75825894e+01, -2.98578821e+00,  3.38341861e+00,  4.21474057e-01,\n",
       "       -5.92264931e+01, -5.72722432e+01, -3.75306202e+01, -1.97474483e+01,\n",
       "       -6.19724015e+01, -1.34535750e+01, -2.66343949e+00,  1.24736148e+01,\n",
       "        3.58203699e+01, -1.13369996e+01,  3.65504684e+00,  2.85715859e+01,\n",
       "        7.40953364e+01, -1.00577270e+01,  1.85630986e+01,  5.69087976e+01,\n",
       "        8.48385305e+01,  2.65882822e+01, -9.31688035e+00, -3.29869441e+00,\n",
       "        1.02083046e+02,  6.28655959e+01,  3.77306930e+01,  3.42310297e+01,\n",
       "       -1.03243624e+01, -5.78914199e+01, -1.45953232e+01, -4.18416899e+01,\n",
       "        4.99717034e+01,  7.51687137e+00,  3.72143329e+01,  3.42764515e+01,\n",
       "        1.58630509e+01, -2.16114214e+01,  6.21210363e+01,  1.97464052e+01,\n",
       "        2.12403352e+01,  5.91628581e+01, -3.37569804e+01,  3.02375805e+01,\n",
       "        2.86928458e-03,  2.34967042e+01,  3.67073909e+01, -3.27183910e+00,\n",
       "       -5.72807226e+00,  4.39122214e+01,  7.64090789e-01,  2.74059340e-01,\n",
       "        1.89779899e+00,  6.33467939e-01,  1.46796963e-01, -1.17016733e-01,\n",
       "        5.12503120e+00,  1.85119056e+00,  1.86800019e+00,  1.91150842e+00,\n",
       "       -7.43366771e+00, -3.63898261e+00, -3.00269056e+00, -1.53573727e+00,\n",
       "       -2.18862077e+00, -1.13046086e+00, -6.45583899e+00, -3.89644651e+00,\n",
       "       -1.02990573e+01, -6.39850739e+00, -6.40505366e+00, -2.09440655e+01,\n",
       "       -1.46721016e+01, -1.35507824e+01, -1.72190831e+01, -7.99962215e+00,\n",
       "       -1.58939179e+01, -1.83171289e+01, -1.79246427e+01, -9.94282883e+00,\n",
       "       -1.30607350e+01,  1.27054003e+01,  4.26036413e+00, -7.50909489e+00,\n",
       "        1.29494412e+01,  2.52696401e+00,  1.01940217e+01,  4.98388791e+00,\n",
       "       -8.55827275e+00,  1.35870731e+01,  8.15490070e+00,  1.39194165e+01,\n",
       "        7.69082373e+00, -2.17041560e+01, -9.70714771e-01, -2.43379481e+01,\n",
       "       -1.77666873e+01,  1.25326906e+00, -2.22774436e+01, -5.52790210e+00,\n",
       "       -1.29694178e+01, -1.87253794e+01, -5.49920557e+00,  6.61136287e+00,\n",
       "       -2.81261731e+01, -8.79391087e+00,  5.19849427e+00,  1.04218106e+01,\n",
       "       -2.98628920e+01,  1.54408124e+01, -3.85060143e+01, -3.63467265e+01,\n",
       "       -7.28104768e-01, -3.19063399e+01, -6.87116566e+01, -1.10827007e+02,\n",
       "       -2.62754579e+02, -1.10540430e+02,  8.63144400e+01, -1.18530444e+01,\n",
       "       -1.43227636e+02,  1.57333433e+03, -2.75288927e+02,  2.95377627e+01,\n",
       "        1.61558788e+02,  2.42699504e+02,  3.08253298e+02, -9.33249161e+02,\n",
       "       -2.13044267e+02,  3.79587947e+01, -8.87239738e+01,  1.58225835e+00,\n",
       "        1.03935611e+02, -9.71024103e+01, -7.95164424e+01,  1.03591411e+02,\n",
       "        3.06712196e+02,  1.06485869e+02,  2.60423448e+02,  8.15100241e+01,\n",
       "        2.80162354e-02,  1.83209865e+01,  1.55154138e+01,  1.50627594e+01,\n",
       "        9.24535939e+01, -4.57289090e+01,  1.43288471e+01,  9.48975792e+01,\n",
       "       -3.68053835e+01,  5.11538187e+02])"
      ]
     },
     "execution_count": 39,
     "metadata": {},
     "output_type": "execute_result"
    }
   ],
   "source": [
    "res = minimize(cost_prob, z, method='Nelder-Mead', tol=1e-6)\n",
    "res.x"
   ]
  },
  {
   "cell_type": "code",
   "execution_count": 40,
   "metadata": {},
   "outputs": [],
   "source": [
    "p2 = (res.x) # assigning the output of minimization to a variable"
   ]
  },
  {
   "cell_type": "code",
   "execution_count": 41,
   "metadata": {},
   "outputs": [
    {
     "data": {
      "text/plain": [
       "(0.21391740377068005, 198)"
      ]
     },
     "execution_count": 41,
     "metadata": {},
     "output_type": "execute_result"
    }
   ],
   "source": [
    "cost_prob(p2), len(p2)"
   ]
  },
  {
   "cell_type": "code",
   "execution_count": 42,
   "metadata": {},
   "outputs": [],
   "source": [
    "x2 = p2[0:99]\n",
    "y2 = p2[99:198]"
   ]
  },
  {
   "cell_type": "code",
   "execution_count": 43,
   "metadata": {},
   "outputs": [
    {
     "data": {
      "text/plain": [
       "[<matplotlib.lines.Line2D at 0x124c49e20>]"
      ]
     },
     "execution_count": 43,
     "metadata": {},
     "output_type": "execute_result"
    },
    {
     "data": {
      "image/png": "[encoded data removed]",
      "text/plain": [
       "<Figure size 432x288 with 2 Axes>"
      ]
     },
     "metadata": {
      "needs_background": "light"
     },
     "output_type": "display_data"
    }
   ],
   "source": [
    "plt.contourf(X, Y, Z, 30)\n",
    "#plt.clabel(contours, inline=True, fontsize=8)\n",
    "plt.colorbar()\n",
    "plt.plot(k, j, 'ro')\n",
    "plt.plot(x0, y0, 'orange')\n",
    "plt.plot(x1, y1, 'blue')\n",
    "plt.plot(x2, y2, 'magenta')"
   ]
  },
  {
   "cell_type": "code",
   "execution_count": null,
   "metadata": {},
   "outputs": [],
   "source": []
  }
 ],
 "metadata": {
  "kernelspec": {
   "display_name": "Python 3",
   "language": "python",
   "name": "python3"
  },
  "language_info": {
   "codemirror_mode": {
    "name": "ipython",
    "version": 3
   },
   "file_extension": ".py",
   "mimetype": "text/x-python",
   "name": "python",
   "nbconvert_exporter": "python",
   "pygments_lexer": "ipython3",
   "version": "3.8.5"
  }
 },
 "nbformat": 4,
 "nbformat_minor": 4
}
