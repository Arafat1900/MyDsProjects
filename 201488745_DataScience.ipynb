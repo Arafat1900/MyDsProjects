{
 "cells": [
  {
   "cell_type": "markdown",
   "metadata": {},
   "source": [
    "# Data Science Project: Assessment 3"
   ]
  },
  {
   "cell_type": "markdown",
   "metadata": {},
   "source": [
    "ID: 201488745\n",
    "\n",
    "Name: Arafat Hussain ( In collaboration with : Amal Bose )\n",
    "\n",
    "This assessment has a 60% weight."
   ]
  },
  {
   "cell_type": "markdown",
   "metadata": {},
   "source": [
    "## Case study"
   ]
  },
  {
   "cell_type": "markdown",
   "metadata": {},
   "source": [
    "The Bitsbank historical transactions dataset provides information on transactions that occurred within a 48-hour timeframe. Principal component analysis has previously been performed in order to preserve the data's anonymity and decrease its dimensionality. This dataset contains 31 features, one of which is the class feature. Except for the amount, time, and class columns, all of these 31 fields have been scaled and standardised. The transaction's class label indicates whether it is legitimate or fraudulent. The dataset is heavily skewed, with fraud accounting for only 0.172 percent of all transactions (492 frauds out of 284,807 transactions)."
   ]
  },
  {
   "cell_type": "markdown",
   "metadata": {},
   "source": [
    "## 1. Aims, objectives and plan (4 marks)"
   ]
  },
  {
   "cell_type": "markdown",
   "metadata": {},
   "source": [
    "### a) Aims and objectives\n",
    "\n",
    "We aim to develop a prediction model that can effectively detect fraudulent credit card transactions through this research, which will be based on historical data from Bitsbank transactions.\n",
    "\n",
    "The requirements are mentioned as below - \n",
    "\n",
    "a) A non-fraudulent transaction will cost the bank £1000 if the prediction model labels it as fraudulent. The bank's budget is £20,000 for £100 million in non-fraudulent transactions, with a limit of 20 transactions per £100 million.\n",
    "\n",
    "b) If the prediction model incorrectly identifies a fraudulent transaction as non-fraudulent, the bank will lose £10,000. The bank will only allow a budget of £50k for £200k of fraudulent transactions, i.e. a maximum of 5 incorrect predictions every £200k of illegal transactions.\n",
    "\n",
    "\n",
    "\n",
    "100-200 words"
   ]
  },
  {
   "cell_type": "markdown",
   "metadata": {},
   "source": [
    "###  b) Plan\n",
    "Please demonstrate how you have conducted the project with a simple Gantt chart."
   ]
  },
  {
   "cell_type": "markdown",
   "metadata": {},
   "source": [
    "## 2. Understanding the case study (4 marks)"
   ]
  },
  {
   "cell_type": "markdown",
   "metadata": {},
   "source": [
    "###  Case study analysis\n",
    "State the key points that you found in the case and how you intend to deal with them appropriately to address the bank's needs. (You can include more than four points.)\n",
    "\n",
    "200-300 words\n",
    "\n",
    "1. The bank's historical data is unbalanced, with fraudulent transactions accounting for just 0.172 percent of all transactions (492 frauds out of 284,807 transactions). \n",
    "2. As a consequence of PCA transformation, all variables in the supplied dataset have just numerical values. \n",
    "3. The 'Class' column determines whether the transaction is legitimate or fraudulent.'1' indicates a fraudulent transaction, while a '0' indicates a regular transaction. \n",
    "4. The dataset has no null values, and only 'time' and 'amount' must be scaled.\n",
    "5. This is a binary classification project with a highly imbalanced dataset, and to meet the bank's requirements, we'll use machine learning techniques such as KNN, Random Forest, ADA Boost, SVM and Decision tree.\n"
   ]
  },
  {
   "cell_type": "markdown",
   "metadata": {},
   "source": [
    "## 3. Pre-processing applied (20 marks)\n",
    "Enter the code in the cells below to execute each of the stated sub-tasks. \n"
   ]
  },
  {
   "cell_type": "markdown",
   "metadata": {},
   "source": [
    "Loading the libraries:"
   ]
  },
  {
   "cell_type": "code",
   "execution_count": 2,
   "metadata": {},
   "outputs": [],
   "source": [
    "import numpy as np # linear algebra\n",
    "import pandas as pd # data processing, CSV file I/O (e.g. pd.read_csv)\n",
    "import seaborn as sb\n",
    "import matplotlib.pyplot as plt\n",
    "import matplotlib.pyplot as plt # to plot the graphs\n",
    "import matplotlib.gridspec as gridspec # to do the grid of plots\n",
    "\n",
    "from sklearn.tree import DecisionTreeClassifier\n",
    "from sklearn.ensemble import RandomForestClassifier\n",
    "from sklearn.model_selection import RandomizedSearchCV, RepeatedStratifiedKFold, train_test_split\n",
    "from sklearn.metrics import precision_score, confusion_matrix, accuracy_score, classification_report,plot_confusion_matrix\n",
    "from sklearn.preprocessing import StandardScaler,MinMaxScaler\n",
    "from sklearn.svm import SVC, LinearSVC\n",
    "from sklearn import tree\n",
    "from sklearn.neighbors import KNeighborsClassifier\n",
    "from sklearn.ensemble import AdaBoostClassifier\n",
    "from sklearn.linear_model import LogisticRegression\n",
    "from sklearn.model_selection import RandomizedSearchCV, RepeatedStratifiedKFold, train_test_split, GridSearchCV\n",
    "from sklearn.model_selection import train_test_split\n",
    "from collections import Counter\n",
    "\n",
    "from sklearn.model_selection import cross_val_score, cross_val_predict\n",
    "from sklearn import metrics\n",
    " \n",
    "from sklearn.model_selection import cross_val_score\n",
    "from sklearn.linear_model import LogisticRegression\n",
    "from sklearn.ensemble import RandomForestClassifier\n",
    "\n",
    "from sklearn.metrics import precision_score, recall_score, fbeta_score, confusion_matrix, precision_recall_curve, accuracy_score"
   ]
  },
  {
   "cell_type": "markdown",
   "metadata": {},
   "source": [
    "Loading the Dataset:"
   ]
  },
  {
   "cell_type": "code",
   "execution_count": 3,
   "metadata": {},
   "outputs": [],
   "source": [
    "data = pd.read_excel(\"creditcard.xlsx\")\n"
   ]
  },
  {
   "cell_type": "markdown",
   "metadata": {},
   "source": [
    "Getting the numerical summary and distribution of variables"
   ]
  },
  {
   "cell_type": "code",
   "execution_count": 4,
   "metadata": {},
   "outputs": [
    {
     "data": {
      "text/html": [
       "<div>\n",
       "<style scoped>\n",
       "    .dataframe tbody tr th:only-of-type {\n",
       "        vertical-align: middle;\n",
       "    }\n",
       "\n",
       "    .dataframe tbody tr th {\n",
       "        vertical-align: top;\n",
       "    }\n",
       "\n",
       "    .dataframe thead th {\n",
       "        text-align: right;\n",
       "    }\n",
       "</style>\n",
       "<table border=\"1\" class=\"dataframe\">\n",
       "  <thead>\n",
       "    <tr style=\"text-align: right;\">\n",
       "      <th></th>\n",
       "      <th>count</th>\n",
       "      <th>mean</th>\n",
       "      <th>std</th>\n",
       "      <th>min</th>\n",
       "      <th>25%</th>\n",
       "      <th>50%</th>\n",
       "      <th>75%</th>\n",
       "      <th>max</th>\n",
       "    </tr>\n",
       "  </thead>\n",
       "  <tbody>\n",
       "    <tr>\n",
       "      <th>Time</th>\n",
       "      <td>284807.0</td>\n",
       "      <td>9.481386e+04</td>\n",
       "      <td>47488.145955</td>\n",
       "      <td>0.000000</td>\n",
       "      <td>54201.500000</td>\n",
       "      <td>84692.000000</td>\n",
       "      <td>139320.500000</td>\n",
       "      <td>172792.000000</td>\n",
       "    </tr>\n",
       "    <tr>\n",
       "      <th>V1</th>\n",
       "      <td>284807.0</td>\n",
       "      <td>1.758743e-12</td>\n",
       "      <td>1.958696</td>\n",
       "      <td>-56.407510</td>\n",
       "      <td>-0.920373</td>\n",
       "      <td>0.018109</td>\n",
       "      <td>1.315642</td>\n",
       "      <td>2.454930</td>\n",
       "    </tr>\n",
       "    <tr>\n",
       "      <th>V2</th>\n",
       "      <td>284807.0</td>\n",
       "      <td>-8.252298e-13</td>\n",
       "      <td>1.651309</td>\n",
       "      <td>-72.715728</td>\n",
       "      <td>-0.598550</td>\n",
       "      <td>0.065486</td>\n",
       "      <td>0.803724</td>\n",
       "      <td>22.057729</td>\n",
       "    </tr>\n",
       "    <tr>\n",
       "      <th>V3</th>\n",
       "      <td>284807.0</td>\n",
       "      <td>-9.636929e-13</td>\n",
       "      <td>1.516255</td>\n",
       "      <td>-48.325589</td>\n",
       "      <td>-0.890365</td>\n",
       "      <td>0.179846</td>\n",
       "      <td>1.027196</td>\n",
       "      <td>9.382558</td>\n",
       "    </tr>\n",
       "    <tr>\n",
       "      <th>V4</th>\n",
       "      <td>284807.0</td>\n",
       "      <td>8.316157e-13</td>\n",
       "      <td>1.415869</td>\n",
       "      <td>-5.683171</td>\n",
       "      <td>-0.848640</td>\n",
       "      <td>-0.019847</td>\n",
       "      <td>0.743341</td>\n",
       "      <td>16.875344</td>\n",
       "    </tr>\n",
       "    <tr>\n",
       "      <th>V5</th>\n",
       "      <td>284807.0</td>\n",
       "      <td>1.591952e-13</td>\n",
       "      <td>1.380247</td>\n",
       "      <td>-113.743307</td>\n",
       "      <td>-0.691597</td>\n",
       "      <td>-0.054336</td>\n",
       "      <td>0.611926</td>\n",
       "      <td>34.801666</td>\n",
       "    </tr>\n",
       "    <tr>\n",
       "      <th>V6</th>\n",
       "      <td>284807.0</td>\n",
       "      <td>4.247354e-13</td>\n",
       "      <td>1.332271</td>\n",
       "      <td>-26.160506</td>\n",
       "      <td>-0.768296</td>\n",
       "      <td>-0.274187</td>\n",
       "      <td>0.398565</td>\n",
       "      <td>73.301626</td>\n",
       "    </tr>\n",
       "    <tr>\n",
       "      <th>V7</th>\n",
       "      <td>284807.0</td>\n",
       "      <td>-3.050180e-13</td>\n",
       "      <td>1.237094</td>\n",
       "      <td>-43.557242</td>\n",
       "      <td>-0.554076</td>\n",
       "      <td>0.040103</td>\n",
       "      <td>0.570436</td>\n",
       "      <td>120.589494</td>\n",
       "    </tr>\n",
       "    <tr>\n",
       "      <th>V8</th>\n",
       "      <td>284807.0</td>\n",
       "      <td>8.693344e-14</td>\n",
       "      <td>1.194353</td>\n",
       "      <td>-73.216718</td>\n",
       "      <td>-0.208630</td>\n",
       "      <td>0.022358</td>\n",
       "      <td>0.327346</td>\n",
       "      <td>20.007208</td>\n",
       "    </tr>\n",
       "    <tr>\n",
       "      <th>V9</th>\n",
       "      <td>284807.0</td>\n",
       "      <td>-1.179712e-12</td>\n",
       "      <td>1.098632</td>\n",
       "      <td>-13.434066</td>\n",
       "      <td>-0.643098</td>\n",
       "      <td>-0.051429</td>\n",
       "      <td>0.597139</td>\n",
       "      <td>15.594995</td>\n",
       "    </tr>\n",
       "    <tr>\n",
       "      <th>V10</th>\n",
       "      <td>284807.0</td>\n",
       "      <td>7.094854e-13</td>\n",
       "      <td>1.088850</td>\n",
       "      <td>-24.588262</td>\n",
       "      <td>-0.535426</td>\n",
       "      <td>-0.092917</td>\n",
       "      <td>0.453923</td>\n",
       "      <td>23.745136</td>\n",
       "    </tr>\n",
       "    <tr>\n",
       "      <th>V11</th>\n",
       "      <td>284807.0</td>\n",
       "      <td>1.875015e-12</td>\n",
       "      <td>1.020713</td>\n",
       "      <td>-4.797473</td>\n",
       "      <td>-0.762494</td>\n",
       "      <td>-0.032757</td>\n",
       "      <td>0.739593</td>\n",
       "      <td>12.018913</td>\n",
       "    </tr>\n",
       "    <tr>\n",
       "      <th>V12</th>\n",
       "      <td>284807.0</td>\n",
       "      <td>1.053488e-12</td>\n",
       "      <td>0.999201</td>\n",
       "      <td>-18.683715</td>\n",
       "      <td>-0.405571</td>\n",
       "      <td>0.140033</td>\n",
       "      <td>0.618238</td>\n",
       "      <td>7.848392</td>\n",
       "    </tr>\n",
       "    <tr>\n",
       "      <th>V13</th>\n",
       "      <td>284807.0</td>\n",
       "      <td>7.137527e-13</td>\n",
       "      <td>0.995274</td>\n",
       "      <td>-5.791881</td>\n",
       "      <td>-0.648539</td>\n",
       "      <td>-0.013568</td>\n",
       "      <td>0.662505</td>\n",
       "      <td>7.126883</td>\n",
       "    </tr>\n",
       "    <tr>\n",
       "      <th>V14</th>\n",
       "      <td>284807.0</td>\n",
       "      <td>-1.491363e-13</td>\n",
       "      <td>0.958596</td>\n",
       "      <td>-19.214325</td>\n",
       "      <td>-0.425574</td>\n",
       "      <td>0.050601</td>\n",
       "      <td>0.493150</td>\n",
       "      <td>10.526766</td>\n",
       "    </tr>\n",
       "    <tr>\n",
       "      <th>V15</th>\n",
       "      <td>284807.0</td>\n",
       "      <td>-5.225914e-13</td>\n",
       "      <td>0.915316</td>\n",
       "      <td>-4.498945</td>\n",
       "      <td>-0.582884</td>\n",
       "      <td>0.048072</td>\n",
       "      <td>0.648821</td>\n",
       "      <td>8.877742</td>\n",
       "    </tr>\n",
       "    <tr>\n",
       "      <th>V16</th>\n",
       "      <td>284807.0</td>\n",
       "      <td>-2.280712e-13</td>\n",
       "      <td>0.876253</td>\n",
       "      <td>-14.129855</td>\n",
       "      <td>-0.468037</td>\n",
       "      <td>0.066413</td>\n",
       "      <td>0.523296</td>\n",
       "      <td>17.315112</td>\n",
       "    </tr>\n",
       "    <tr>\n",
       "      <th>V17</th>\n",
       "      <td>284807.0</td>\n",
       "      <td>-6.428517e-13</td>\n",
       "      <td>0.849337</td>\n",
       "      <td>-25.162799</td>\n",
       "      <td>-0.483748</td>\n",
       "      <td>-0.065676</td>\n",
       "      <td>0.399675</td>\n",
       "      <td>9.253526</td>\n",
       "    </tr>\n",
       "    <tr>\n",
       "      <th>V18</th>\n",
       "      <td>284807.0</td>\n",
       "      <td>4.958987e-13</td>\n",
       "      <td>0.838176</td>\n",
       "      <td>-9.498746</td>\n",
       "      <td>-0.498850</td>\n",
       "      <td>-0.003636</td>\n",
       "      <td>0.500807</td>\n",
       "      <td>5.041069</td>\n",
       "    </tr>\n",
       "    <tr>\n",
       "      <th>V19</th>\n",
       "      <td>284807.0</td>\n",
       "      <td>7.060712e-13</td>\n",
       "      <td>0.814041</td>\n",
       "      <td>-7.213527</td>\n",
       "      <td>-0.456299</td>\n",
       "      <td>0.003735</td>\n",
       "      <td>0.458949</td>\n",
       "      <td>5.591971</td>\n",
       "    </tr>\n",
       "    <tr>\n",
       "      <th>V20</th>\n",
       "      <td>284807.0</td>\n",
       "      <td>1.766038e-12</td>\n",
       "      <td>0.770925</td>\n",
       "      <td>-54.497720</td>\n",
       "      <td>-0.211721</td>\n",
       "      <td>-0.062481</td>\n",
       "      <td>0.133041</td>\n",
       "      <td>39.420904</td>\n",
       "    </tr>\n",
       "    <tr>\n",
       "      <th>V21</th>\n",
       "      <td>284807.0</td>\n",
       "      <td>-3.406543e-13</td>\n",
       "      <td>0.734524</td>\n",
       "      <td>-34.830382</td>\n",
       "      <td>-0.228395</td>\n",
       "      <td>-0.029450</td>\n",
       "      <td>0.186377</td>\n",
       "      <td>27.202839</td>\n",
       "    </tr>\n",
       "    <tr>\n",
       "      <th>V22</th>\n",
       "      <td>284807.0</td>\n",
       "      <td>-5.713163e-13</td>\n",
       "      <td>0.725702</td>\n",
       "      <td>-10.933144</td>\n",
       "      <td>-0.542350</td>\n",
       "      <td>0.006782</td>\n",
       "      <td>0.528554</td>\n",
       "      <td>10.503090</td>\n",
       "    </tr>\n",
       "    <tr>\n",
       "      <th>V23</th>\n",
       "      <td>284807.0</td>\n",
       "      <td>-9.725303e-13</td>\n",
       "      <td>0.624460</td>\n",
       "      <td>-44.807735</td>\n",
       "      <td>-0.161846</td>\n",
       "      <td>-0.011193</td>\n",
       "      <td>0.147642</td>\n",
       "      <td>22.528412</td>\n",
       "    </tr>\n",
       "    <tr>\n",
       "      <th>V24</th>\n",
       "      <td>284807.0</td>\n",
       "      <td>1.464139e-12</td>\n",
       "      <td>0.605647</td>\n",
       "      <td>-2.836627</td>\n",
       "      <td>-0.354586</td>\n",
       "      <td>0.040976</td>\n",
       "      <td>0.439527</td>\n",
       "      <td>4.584549</td>\n",
       "    </tr>\n",
       "    <tr>\n",
       "      <th>V25</th>\n",
       "      <td>284807.0</td>\n",
       "      <td>-6.989087e-13</td>\n",
       "      <td>0.521278</td>\n",
       "      <td>-10.295397</td>\n",
       "      <td>-0.317145</td>\n",
       "      <td>0.016594</td>\n",
       "      <td>0.350716</td>\n",
       "      <td>7.519589</td>\n",
       "    </tr>\n",
       "    <tr>\n",
       "      <th>V26</th>\n",
       "      <td>284807.0</td>\n",
       "      <td>-5.615260e-13</td>\n",
       "      <td>0.482227</td>\n",
       "      <td>-2.604551</td>\n",
       "      <td>-0.326984</td>\n",
       "      <td>-0.052139</td>\n",
       "      <td>0.240952</td>\n",
       "      <td>3.517346</td>\n",
       "    </tr>\n",
       "    <tr>\n",
       "      <th>V27</th>\n",
       "      <td>284807.0</td>\n",
       "      <td>3.332112e-12</td>\n",
       "      <td>0.403632</td>\n",
       "      <td>-22.565679</td>\n",
       "      <td>-0.070840</td>\n",
       "      <td>0.001342</td>\n",
       "      <td>0.091045</td>\n",
       "      <td>31.612198</td>\n",
       "    </tr>\n",
       "    <tr>\n",
       "      <th>V28</th>\n",
       "      <td>284807.0</td>\n",
       "      <td>-3.518886e-12</td>\n",
       "      <td>0.330083</td>\n",
       "      <td>-15.430084</td>\n",
       "      <td>-0.052960</td>\n",
       "      <td>0.011244</td>\n",
       "      <td>0.078280</td>\n",
       "      <td>33.847808</td>\n",
       "    </tr>\n",
       "    <tr>\n",
       "      <th>Amount</th>\n",
       "      <td>284807.0</td>\n",
       "      <td>8.834962e+01</td>\n",
       "      <td>250.120109</td>\n",
       "      <td>0.000000</td>\n",
       "      <td>5.600000</td>\n",
       "      <td>22.000000</td>\n",
       "      <td>77.165000</td>\n",
       "      <td>25691.160000</td>\n",
       "    </tr>\n",
       "    <tr>\n",
       "      <th>Class</th>\n",
       "      <td>284807.0</td>\n",
       "      <td>1.727486e-03</td>\n",
       "      <td>0.041527</td>\n",
       "      <td>0.000000</td>\n",
       "      <td>0.000000</td>\n",
       "      <td>0.000000</td>\n",
       "      <td>0.000000</td>\n",
       "      <td>1.000000</td>\n",
       "    </tr>\n",
       "  </tbody>\n",
       "</table>\n",
       "</div>"
      ],
      "text/plain": [
       "           count          mean           std         min           25%  \\\n",
       "Time    284807.0  9.481386e+04  47488.145955    0.000000  54201.500000   \n",
       "V1      284807.0  1.758743e-12      1.958696  -56.407510     -0.920373   \n",
       "V2      284807.0 -8.252298e-13      1.651309  -72.715728     -0.598550   \n",
       "V3      284807.0 -9.636929e-13      1.516255  -48.325589     -0.890365   \n",
       "V4      284807.0  8.316157e-13      1.415869   -5.683171     -0.848640   \n",
       "V5      284807.0  1.591952e-13      1.380247 -113.743307     -0.691597   \n",
       "V6      284807.0  4.247354e-13      1.332271  -26.160506     -0.768296   \n",
       "V7      284807.0 -3.050180e-13      1.237094  -43.557242     -0.554076   \n",
       "V8      284807.0  8.693344e-14      1.194353  -73.216718     -0.208630   \n",
       "V9      284807.0 -1.179712e-12      1.098632  -13.434066     -0.643098   \n",
       "V10     284807.0  7.094854e-13      1.088850  -24.588262     -0.535426   \n",
       "V11     284807.0  1.875015e-12      1.020713   -4.797473     -0.762494   \n",
       "V12     284807.0  1.053488e-12      0.999201  -18.683715     -0.405571   \n",
       "V13     284807.0  7.137527e-13      0.995274   -5.791881     -0.648539   \n",
       "V14     284807.0 -1.491363e-13      0.958596  -19.214325     -0.425574   \n",
       "V15     284807.0 -5.225914e-13      0.915316   -4.498945     -0.582884   \n",
       "V16     284807.0 -2.280712e-13      0.876253  -14.129855     -0.468037   \n",
       "V17     284807.0 -6.428517e-13      0.849337  -25.162799     -0.483748   \n",
       "V18     284807.0  4.958987e-13      0.838176   -9.498746     -0.498850   \n",
       "V19     284807.0  7.060712e-13      0.814041   -7.213527     -0.456299   \n",
       "V20     284807.0  1.766038e-12      0.770925  -54.497720     -0.211721   \n",
       "V21     284807.0 -3.406543e-13      0.734524  -34.830382     -0.228395   \n",
       "V22     284807.0 -5.713163e-13      0.725702  -10.933144     -0.542350   \n",
       "V23     284807.0 -9.725303e-13      0.624460  -44.807735     -0.161846   \n",
       "V24     284807.0  1.464139e-12      0.605647   -2.836627     -0.354586   \n",
       "V25     284807.0 -6.989087e-13      0.521278  -10.295397     -0.317145   \n",
       "V26     284807.0 -5.615260e-13      0.482227   -2.604551     -0.326984   \n",
       "V27     284807.0  3.332112e-12      0.403632  -22.565679     -0.070840   \n",
       "V28     284807.0 -3.518886e-12      0.330083  -15.430084     -0.052960   \n",
       "Amount  284807.0  8.834962e+01    250.120109    0.000000      5.600000   \n",
       "Class   284807.0  1.727486e-03      0.041527    0.000000      0.000000   \n",
       "\n",
       "                 50%            75%            max  \n",
       "Time    84692.000000  139320.500000  172792.000000  \n",
       "V1          0.018109       1.315642       2.454930  \n",
       "V2          0.065486       0.803724      22.057729  \n",
       "V3          0.179846       1.027196       9.382558  \n",
       "V4         -0.019847       0.743341      16.875344  \n",
       "V5         -0.054336       0.611926      34.801666  \n",
       "V6         -0.274187       0.398565      73.301626  \n",
       "V7          0.040103       0.570436     120.589494  \n",
       "V8          0.022358       0.327346      20.007208  \n",
       "V9         -0.051429       0.597139      15.594995  \n",
       "V10        -0.092917       0.453923      23.745136  \n",
       "V11        -0.032757       0.739593      12.018913  \n",
       "V12         0.140033       0.618238       7.848392  \n",
       "V13        -0.013568       0.662505       7.126883  \n",
       "V14         0.050601       0.493150      10.526766  \n",
       "V15         0.048072       0.648821       8.877742  \n",
       "V16         0.066413       0.523296      17.315112  \n",
       "V17        -0.065676       0.399675       9.253526  \n",
       "V18        -0.003636       0.500807       5.041069  \n",
       "V19         0.003735       0.458949       5.591971  \n",
       "V20        -0.062481       0.133041      39.420904  \n",
       "V21        -0.029450       0.186377      27.202839  \n",
       "V22         0.006782       0.528554      10.503090  \n",
       "V23        -0.011193       0.147642      22.528412  \n",
       "V24         0.040976       0.439527       4.584549  \n",
       "V25         0.016594       0.350716       7.519589  \n",
       "V26        -0.052139       0.240952       3.517346  \n",
       "V27         0.001342       0.091045      31.612198  \n",
       "V28         0.011244       0.078280      33.847808  \n",
       "Amount     22.000000      77.165000   25691.160000  \n",
       "Class       0.000000       0.000000       1.000000  "
      ]
     },
     "execution_count": 4,
     "metadata": {},
     "output_type": "execute_result"
    }
   ],
   "source": [
    "data.describe().T"
   ]
  },
  {
   "cell_type": "markdown",
   "metadata": {},
   "source": [
    "###  a) Preparing the labels appropriately"
   ]
  },
  {
   "cell_type": "code",
   "execution_count": 78,
   "metadata": {},
   "outputs": [
    {
     "name": "stdout",
     "output_type": "stream",
     "text": [
      "Number of fraudalent transactions: 460 \n",
      "Number of normal transactions: 282493\n"
     ]
    }
   ],
   "source": [
    "\n",
    "fraudulent_transactions=data[data['Class']==1]\n",
    "normal_transactions=data[data['Class']==0]\n",
    "\n",
    "length1 = len(fraudulent_transactions)\n",
    "length2 = len(normal_transactions)\n",
    "\n",
    "# Checking the class distribution\n",
    "\n",
    "print(\"Number of fraudalent transactions:\",length1,\"\\nNumber of normal transactions:\", length2)"
   ]
  },
  {
   "cell_type": "markdown",
   "metadata": {},
   "source": [
    "###  b) Removing synonymous and noisy attributes\n",
    "\n",
    "Suppose that we have a dataset in which we have some measured attributes. Now, these attributes might carry some random error or variance. Such errors in attribute values are called as noise in the data.\n",
    "\n",
    "If such errors persist in our data, it will return inaccurate results."
   ]
  },
  {
   "cell_type": "code",
   "execution_count": 6,
   "metadata": {},
   "outputs": [
    {
     "name": "stdout",
     "output_type": "stream",
     "text": [
      "Dimension of data before removing duplicates: 284807 \n",
      "Dimension of data after removing duplicates: 282953 \n",
      "No of duplicates: 1854\n"
     ]
    }
   ],
   "source": [
    "# dropping  duplicate values\n",
    "length1 = len(data)\n",
    "data.drop_duplicates(subset =None,\n",
    "                     keep = False, inplace = True)\n",
    "length2 = len(data)\n",
    "length3 = length1-length2\n",
    "print(\"Dimension of data before removing duplicates:\",length1,\"\\nDimension of data after removing duplicates:\", length2,\"\\nNo of duplicates:\", length3)"
   ]
  },
  {
   "cell_type": "code",
   "execution_count": 7,
   "metadata": {},
   "outputs": [
    {
     "data": {
      "image/png": "[encoded data removed]",
      "text/plain": [
       "<Figure size 1080x5760 with 28 Axes>"
      ]
     },
     "metadata": {
      "needs_background": "light"
     },
     "output_type": "display_data"
    }
   ],
   "source": [
    "#checking the distribution of 'V' variables to check its relevance\n",
    "columns = data.iloc[:,1:29].columns\n",
    "\n",
    "frauds = data.Class == 1\n",
    "normals = data.Class == 0\n",
    "\n",
    "\n",
    "grid = gridspec.GridSpec(14, 2)\n",
    "plt.figure(figsize=(15,20*4))\n",
    "\n",
    "for n, col in enumerate(columns):\n",
    "    ax = plt.subplot(grid[n])\n",
    "    x1 = data.loc[data.Class==1, col]\n",
    "    x2 = data.loc[data.Class==0, col]\n",
    "    ax.hist(x1, bins = 100,alpha = 0.5, color='g',label = 'Fraud') #Will receive the \"semi-salmon\" violin\n",
    "    ax.hist(x2, bins = 100,alpha = 0.5, color='r',label = 'Non Fraud') #Will receive the \"ocean\" color\n",
    "    ax.set_ylabel('Density')\n",
    "    ax.set_title(str(col))\n",
    "    ax.set_xlabel('')\n",
    "    ax.legend();\n",
    "plt.show()"
   ]
  },
  {
   "cell_type": "markdown",
   "metadata": {},
   "source": [
    "We analysed the distribution of time and 'v' variables to find its relation with the target variable and found the significant ones. Also we did correlation analysis to explore the relation between them . Based on that we are selecting only those attributes which are significant."
   ]
  },
  {
   "cell_type": "code",
   "execution_count": 10,
   "metadata": {},
   "outputs": [],
   "source": [
    "#based on the analysis of distribution of variables, we are chosing only those attributes which are significant\n",
    "data = data[[\"V1\",\"V2\",\"V3\",\"V4\",\"V7\",\"V9\",\"V10\",\"V11\",\"V12\",\"V14\",\"V16\",\"V17\",\"V18\",\"V19\",\"V27\",\"Amount\",\"Class\"]]"
   ]
  },
  {
   "cell_type": "markdown",
   "metadata": {},
   "source": [
    "###  c) Dealing with missing values\n"
   ]
  },
  {
   "cell_type": "markdown",
   "metadata": {},
   "source": [
    "Apparently there are no missing values in the dataset. "
   ]
  },
  {
   "cell_type": "code",
   "execution_count": 11,
   "metadata": {},
   "outputs": [
    {
     "data": {
      "text/html": [
       "<div>\n",
       "<style scoped>\n",
       "    .dataframe tbody tr th:only-of-type {\n",
       "        vertical-align: middle;\n",
       "    }\n",
       "\n",
       "    .dataframe tbody tr th {\n",
       "        vertical-align: top;\n",
       "    }\n",
       "\n",
       "    .dataframe thead th {\n",
       "        text-align: right;\n",
       "    }\n",
       "</style>\n",
       "<table border=\"1\" class=\"dataframe\">\n",
       "  <thead>\n",
       "    <tr style=\"text-align: right;\">\n",
       "      <th></th>\n",
       "      <th>0</th>\n",
       "    </tr>\n",
       "  </thead>\n",
       "  <tbody>\n",
       "    <tr>\n",
       "      <th>V1</th>\n",
       "      <td>0</td>\n",
       "    </tr>\n",
       "    <tr>\n",
       "      <th>V2</th>\n",
       "      <td>0</td>\n",
       "    </tr>\n",
       "    <tr>\n",
       "      <th>V3</th>\n",
       "      <td>0</td>\n",
       "    </tr>\n",
       "    <tr>\n",
       "      <th>V4</th>\n",
       "      <td>0</td>\n",
       "    </tr>\n",
       "    <tr>\n",
       "      <th>V7</th>\n",
       "      <td>0</td>\n",
       "    </tr>\n",
       "    <tr>\n",
       "      <th>V9</th>\n",
       "      <td>0</td>\n",
       "    </tr>\n",
       "    <tr>\n",
       "      <th>V10</th>\n",
       "      <td>0</td>\n",
       "    </tr>\n",
       "    <tr>\n",
       "      <th>V11</th>\n",
       "      <td>0</td>\n",
       "    </tr>\n",
       "    <tr>\n",
       "      <th>V12</th>\n",
       "      <td>0</td>\n",
       "    </tr>\n",
       "    <tr>\n",
       "      <th>V14</th>\n",
       "      <td>0</td>\n",
       "    </tr>\n",
       "    <tr>\n",
       "      <th>V16</th>\n",
       "      <td>0</td>\n",
       "    </tr>\n",
       "    <tr>\n",
       "      <th>V17</th>\n",
       "      <td>0</td>\n",
       "    </tr>\n",
       "    <tr>\n",
       "      <th>V18</th>\n",
       "      <td>0</td>\n",
       "    </tr>\n",
       "    <tr>\n",
       "      <th>V19</th>\n",
       "      <td>0</td>\n",
       "    </tr>\n",
       "    <tr>\n",
       "      <th>V27</th>\n",
       "      <td>0</td>\n",
       "    </tr>\n",
       "    <tr>\n",
       "      <th>Amount</th>\n",
       "      <td>0</td>\n",
       "    </tr>\n",
       "    <tr>\n",
       "      <th>Class</th>\n",
       "      <td>0</td>\n",
       "    </tr>\n",
       "  </tbody>\n",
       "</table>\n",
       "</div>"
      ],
      "text/plain": [
       "        0\n",
       "V1      0\n",
       "V2      0\n",
       "V3      0\n",
       "V4      0\n",
       "V7      0\n",
       "V9      0\n",
       "V10     0\n",
       "V11     0\n",
       "V12     0\n",
       "V14     0\n",
       "V16     0\n",
       "V17     0\n",
       "V18     0\n",
       "V19     0\n",
       "V27     0\n",
       "Amount  0\n",
       "Class   0"
      ]
     },
     "execution_count": 11,
     "metadata": {},
     "output_type": "execute_result"
    }
   ],
   "source": [
    "pd.DataFrame(data.isnull().sum())"
   ]
  },
  {
   "cell_type": "markdown",
   "metadata": {},
   "source": [
    "###  d) Handling Imbalance in the data:"
   ]
  },
  {
   "cell_type": "code",
   "execution_count": 82,
   "metadata": {},
   "outputs": [
    {
     "name": "stdout",
     "output_type": "stream",
     "text": [
      "Number of fraudalent transactions: 460 \n",
      "Number of normal transactions: 282493\n"
     ]
    }
   ],
   "source": [
    "length1 = len(fraudulent_transactions)\n",
    "length2 = len(normal_transactions)\n",
    "\n",
    "# Checking the class distribution\n",
    "\n",
    "print(\"Number of fraudalent transactions:\",length1,\"\\nNumber of normal transactions:\", length2)"
   ]
  },
  {
   "cell_type": "markdown",
   "metadata": {},
   "source": [
    "Since there is severe imbalance in the data, we are doing undersampling to build an efficient predictive model"
   ]
  },
  {
   "cell_type": "code",
   "execution_count": 14,
   "metadata": {},
   "outputs": [],
   "source": [
    "# Creating Test and Train datasets\n",
    "\n",
    "X = data.drop('Class',axis=1)\n",
    "y = data['Class']\n",
    "x_train, x_test, y_train, y_test = train_test_split(X, y, test_size=0.2, random_state=101)"
   ]
  },
  {
   "cell_type": "code",
   "execution_count": 15,
   "metadata": {},
   "outputs": [],
   "source": [
    "## Oversampled data\n",
    "\n",
    "y_train.reset_index(drop=True,inplace=True)\n",
    "x_train.reset_index(drop=True,inplace=True)\n",
    "\n",
    "data_train = pd.concat([x_train, y_train], axis=1)\n",
    "\n",
    "\n",
    "class_count_0, class_count_1 = data_train[\"Class\"].value_counts()\n",
    "\n",
    "# Separate class\n",
    "class_0 = data_train[data_train[\"Class\"] == 0]\n",
    "class_1 = data_train[data_train[\"Class\"] == 1]\n",
    "\n",
    "class_0_under = class_1.sample(class_count_0,replace = True)\n",
    "data_train = pd.concat([class_0_under, class_0], axis=0)\n",
    "                       \n",
    "x_train_oversampled = data_train.drop('Class',axis=1)\n",
    "y_train_oversampled = data_train['Class']\n"
   ]
  },
  {
   "cell_type": "code",
   "execution_count": 16,
   "metadata": {},
   "outputs": [],
   "source": [
    "# #Undersampling of the data:\n",
    "\n",
    "\n",
    "y_train.reset_index(drop=True,inplace=True)\n",
    "x_train.reset_index(drop=True,inplace=True)\n",
    "\n",
    "data_train = pd.concat([x_train, y_train], axis=1)\n",
    "\n",
    "\n",
    "class_count_0, class_count_1 = data_train[\"Class\"].value_counts()\n",
    "\n",
    "# Separate class\n",
    "class_0 = data_train[data_train[\"Class\"] == 0]\n",
    "class_1 = data_train[data_train[\"Class\"] == 1]\n",
    "\n",
    "class_0_under = class_0.sample(class_count_1)\n",
    "data_train = pd.concat([class_0_under, class_1], axis=0)\n",
    "                       \n",
    "x_train = data_train.drop('Class',axis=1)\n",
    "y_train = data_train['Class']\n"
   ]
  },
  {
   "cell_type": "code",
   "execution_count": null,
   "metadata": {},
   "outputs": [],
   "source": [
    "# #Undersampling of the data:\n",
    "# class_count_0, class_count_1 = data[\"Class\"].value_counts()\n",
    "\n",
    "# # Separate class\n",
    "# class_0 = data[data[\"Class\"] == 0]\n",
    "# class_1 = data[data[\"Class\"] == 1]\n",
    "\n",
    "# class_0_under = class_0.sample(class_count_1)\n",
    "# data = pd.concat([class_0_under, class_1], axis=0)\n",
    "\n",
    "# data[\"Class\"].value_counts().plot(kind='bar', title='count (target)')\n",
    "# plt.show()\n",
    "\n"
   ]
  },
  {
   "cell_type": "markdown",
   "metadata": {},
   "source": [
    "###  d) Rescaling if necessary\n"
   ]
  },
  {
   "cell_type": "code",
   "execution_count": 25,
   "metadata": {},
   "outputs": [
    {
     "name": "stdout",
     "output_type": "stream",
     "text": [
      "Fraud transaction statistics\n",
      "count     460.000000\n",
      "mean      124.045239\n",
      "std       262.620752\n",
      "min         0.000000\n",
      "25%         1.000000\n",
      "50%         9.250000\n",
      "75%       105.890000\n",
      "max      2125.870000\n",
      "Name: Amount, dtype: float64\n",
      "\n",
      "Normal transaction statistics\n",
      "count    282493.000000\n",
      "mean         88.476932\n",
      "std         250.543853\n",
      "min           0.000000\n",
      "25%           5.640000\n",
      "50%          22.000000\n",
      "75%          77.600000\n",
      "max       25691.160000\n",
      "Name: Amount, dtype: float64\n"
     ]
    }
   ],
   "source": [
    "#To clearly the data of frauds and no frauds\n",
    "df_fraud = data[data['Class'] == 1]\n",
    "df_normal = data[data['Class'] == 0]\n",
    "\n",
    "print(\"Fraud transaction statistics\")\n",
    "print(df_fraud[\"Amount\"].describe())\n",
    "print(\"\\nNormal transaction statistics\")\n",
    "print(df_normal[\"Amount\"].describe())"
   ]
  },
  {
   "cell_type": "code",
   "execution_count": 26,
   "metadata": {},
   "outputs": [
    {
     "name": "stderr",
     "output_type": "stream",
     "text": [
      "<ipython-input-26-4993749e4c33>:13: SettingWithCopyWarning:\n",
      "\n",
      "\n",
      "A value is trying to be set on a copy of a slice from a DataFrame.\n",
      "Try using .loc[row_indexer,col_indexer] = value instead\n",
      "\n",
      "See the caveats in the documentation: https://pandas.pydata.org/pandas-docs/stable/user_guide/indexing.html#returning-a-view-versus-a-copy\n",
      "\n",
      "C:\\ProgramData\\Anaconda3\\lib\\site-packages\\pandas\\core\\frame.py:3990: SettingWithCopyWarning:\n",
      "\n",
      "\n",
      "A value is trying to be set on a copy of a slice from a DataFrame\n",
      "\n",
      "See the caveats in the documentation: https://pandas.pydata.org/pandas-docs/stable/user_guide/indexing.html#returning-a-view-versus-a-copy\n",
      "\n"
     ]
    }
   ],
   "source": [
    "#rescaling the amount column and dropping the non scaled column after that.\n",
    "\n",
    "from sklearn.preprocessing import  RobustScaler\n",
    "robust=RobustScaler()\n",
    "x_train['amount']=robust.fit_transform(x_train['Amount'].values.reshape(-1,1))\n",
    "\n",
    "x_train.drop(['Amount'], axis=1, inplace=True)\n",
    "\n",
    "x_train_oversampled['amount']=robust.fit_transform(x_train_oversampled['Amount'].values.reshape(-1,1))\n",
    "\n",
    "x_train_oversampled.drop(['Amount'], axis=1, inplace=True)\n",
    "\n",
    "x_test['amount']=robust.transform(x_test['Amount'].values.reshape(-1,1))\n",
    "\n",
    "x_test.drop(['Amount'], axis=1, inplace=True)\n"
   ]
  },
  {
   "cell_type": "markdown",
   "metadata": {},
   "source": [
    "### e) Other:"
   ]
  },
  {
   "cell_type": "markdown",
   "metadata": {},
   "source": [
    "## 4. Technique 1 (20 marks)"
   ]
  },
  {
   "cell_type": "markdown",
   "metadata": {},
   "source": [
    "### a) Discuss your motivation for choosing the technique and provide a schematic figure of the process\n",
    "\n",
    "100-200 words\n"
   ]
  },
  {
   "cell_type": "markdown",
   "metadata": {},
   "source": [
    "We use Support Vector Machine (SVM) to build a detection model, with a 'Class' value of 1 indicating a fraudulent transaction.  It's a supervised approach for distinguishing behavioural traits belonging to distinct classes by converting feature vectors into high-dimensional space and locating hyperplanes (lines separating data points) to partition the space. Multiple hyperplanes can be utilised, with the best one being the one that optimises class separation while minimising misclassification. Each transaction is treated as a point in a k-dimensional space (where k is the number of entities), with each entity's value being the value of a certain coordinate. The categorization is then completed by identifying the hyperplane that best distinguishes the two classes (Normal / Fraud).\n",
    "\n",
    "\n",
    "SVMs produce optimal hyperplanes that optimise a margin between classes and are advanced yet simple to apply. They project input data onto high-dimensional feature spaces using kernel functions, making it easier to separate instances linearly. This makes SVMs particularly useful for non-linear classification tasks like detecting financial fraud."
   ]
  },
  {
   "cell_type": "markdown",
   "metadata": {},
   "source": [
    "\n",
    "### b) Setting hyper parameters with rationale\n",
    "Here we are optimising mainly 3 parameters : \n",
    "\n",
    "a) C : A low C smoothes the decision surface, whereas a high C tries to correctly identify all training samples. Thus a higher C can result in overfitting.\n",
    "\n",
    "b) gamma : The gamma value indicates how significant a single training example is. The bigger the gamma, the closer the other samples must be in order to be influenced.\n",
    "\n",
    "b) kernel: It specifies the kernel type to be used in the algorithm"
   ]
  },
  {
   "cell_type": "code",
   "execution_count": 27,
   "metadata": {},
   "outputs": [],
   "source": [
    "random_grid= {'C':[1000],'gamma':[1,0.1,0.001,0.0001], 'kernel':['linear','rbf']}"
   ]
  },
  {
   "cell_type": "markdown",
   "metadata": {},
   "source": [
    "### c) Optimising hyper parameters\n"
   ]
  },
  {
   "cell_type": "code",
   "execution_count": 28,
   "metadata": {},
   "outputs": [
    {
     "name": "stdout",
     "output_type": "stream",
     "text": [
      "Fitting 5 folds for each of 8 candidates, totalling 40 fits\n",
      "[CV] C=1000, gamma=1, kernel=linear ..................................\n"
     ]
    },
    {
     "name": "stderr",
     "output_type": "stream",
     "text": [
      "[Parallel(n_jobs=1)]: Using backend SequentialBackend with 1 concurrent workers.\n"
     ]
    },
    {
     "name": "stdout",
     "output_type": "stream",
     "text": [
      "[CV] ................... C=1000, gamma=1, kernel=linear, total=   4.7s\n",
      "[CV] C=1000, gamma=1, kernel=linear ..................................\n"
     ]
    },
    {
     "name": "stderr",
     "output_type": "stream",
     "text": [
      "[Parallel(n_jobs=1)]: Done   1 out of   1 | elapsed:    4.6s remaining:    0.0s\n"
     ]
    },
    {
     "name": "stdout",
     "output_type": "stream",
     "text": [
      "[CV] ................... C=1000, gamma=1, kernel=linear, total=   1.8s\n",
      "[CV] C=1000, gamma=1, kernel=linear ..................................\n",
      "[CV] ................... C=1000, gamma=1, kernel=linear, total=   2.4s\n",
      "[CV] C=1000, gamma=1, kernel=linear ..................................\n",
      "[CV] ................... C=1000, gamma=1, kernel=linear, total=   9.3s\n",
      "[CV] C=1000, gamma=1, kernel=linear ..................................\n",
      "[CV] ................... C=1000, gamma=1, kernel=linear, total=   1.5s\n",
      "[CV] C=1000, gamma=1, kernel=rbf .....................................\n",
      "[CV] ...................... C=1000, gamma=1, kernel=rbf, total=   0.0s\n",
      "[CV] C=1000, gamma=1, kernel=rbf .....................................\n",
      "[CV] ...................... C=1000, gamma=1, kernel=rbf, total=   0.0s\n",
      "[CV] C=1000, gamma=1, kernel=rbf .....................................\n",
      "[CV] ...................... C=1000, gamma=1, kernel=rbf, total=   0.0s\n",
      "[CV] C=1000, gamma=1, kernel=rbf .....................................\n",
      "[CV] ...................... C=1000, gamma=1, kernel=rbf, total=   0.0s\n",
      "[CV] C=1000, gamma=1, kernel=rbf .....................................\n",
      "[CV] ...................... C=1000, gamma=1, kernel=rbf, total=   0.0s\n",
      "[CV] C=1000, gamma=0.1, kernel=linear ................................\n",
      "[CV] ................. C=1000, gamma=0.1, kernel=linear, total=   4.8s\n",
      "[CV] C=1000, gamma=0.1, kernel=linear ................................\n",
      "[CV] ................. C=1000, gamma=0.1, kernel=linear, total=   1.9s\n",
      "[CV] C=1000, gamma=0.1, kernel=linear ................................\n",
      "[CV] ................. C=1000, gamma=0.1, kernel=linear, total=   2.5s\n",
      "[CV] C=1000, gamma=0.1, kernel=linear ................................\n",
      "[CV] ................. C=1000, gamma=0.1, kernel=linear, total=   9.5s\n",
      "[CV] C=1000, gamma=0.1, kernel=linear ................................\n",
      "[CV] ................. C=1000, gamma=0.1, kernel=linear, total=   1.5s\n",
      "[CV] C=1000, gamma=0.1, kernel=rbf ...................................\n",
      "[CV] .................... C=1000, gamma=0.1, kernel=rbf, total=   0.0s\n",
      "[CV] C=1000, gamma=0.1, kernel=rbf ...................................\n",
      "[CV] .................... C=1000, gamma=0.1, kernel=rbf, total=   0.0s\n",
      "[CV] C=1000, gamma=0.1, kernel=rbf ...................................\n",
      "[CV] .................... C=1000, gamma=0.1, kernel=rbf, total=   0.0s\n",
      "[CV] C=1000, gamma=0.1, kernel=rbf ...................................\n",
      "[CV] .................... C=1000, gamma=0.1, kernel=rbf, total=   0.0s\n",
      "[CV] C=1000, gamma=0.1, kernel=rbf ...................................\n",
      "[CV] .................... C=1000, gamma=0.1, kernel=rbf, total=   0.0s\n",
      "[CV] C=1000, gamma=0.001, kernel=linear ..............................\n",
      "[CV] ............... C=1000, gamma=0.001, kernel=linear, total=   4.8s\n",
      "[CV] C=1000, gamma=0.001, kernel=linear ..............................\n",
      "[CV] ............... C=1000, gamma=0.001, kernel=linear, total=   1.9s\n",
      "[CV] C=1000, gamma=0.001, kernel=linear ..............................\n",
      "[CV] ............... C=1000, gamma=0.001, kernel=linear, total=   2.4s\n",
      "[CV] C=1000, gamma=0.001, kernel=linear ..............................\n",
      "[CV] ............... C=1000, gamma=0.001, kernel=linear, total=   9.4s\n",
      "[CV] C=1000, gamma=0.001, kernel=linear ..............................\n",
      "[CV] ............... C=1000, gamma=0.001, kernel=linear, total=   1.5s\n",
      "[CV] C=1000, gamma=0.001, kernel=rbf .................................\n",
      "[CV] .................. C=1000, gamma=0.001, kernel=rbf, total=   0.0s\n",
      "[CV] C=1000, gamma=0.001, kernel=rbf .................................\n",
      "[CV] .................. C=1000, gamma=0.001, kernel=rbf, total=   0.0s\n",
      "[CV] C=1000, gamma=0.001, kernel=rbf .................................\n",
      "[CV] .................. C=1000, gamma=0.001, kernel=rbf, total=   0.0s\n",
      "[CV] C=1000, gamma=0.001, kernel=rbf .................................\n",
      "[CV] .................. C=1000, gamma=0.001, kernel=rbf, total=   0.0s\n",
      "[CV] C=1000, gamma=0.001, kernel=rbf .................................\n",
      "[CV] .................. C=1000, gamma=0.001, kernel=rbf, total=   0.0s\n",
      "[CV] C=1000, gamma=0.0001, kernel=linear .............................\n",
      "[CV] .............. C=1000, gamma=0.0001, kernel=linear, total=   4.7s\n",
      "[CV] C=1000, gamma=0.0001, kernel=linear .............................\n",
      "[CV] .............. C=1000, gamma=0.0001, kernel=linear, total=   1.9s\n",
      "[CV] C=1000, gamma=0.0001, kernel=linear .............................\n",
      "[CV] .............. C=1000, gamma=0.0001, kernel=linear, total=   2.5s\n",
      "[CV] C=1000, gamma=0.0001, kernel=linear .............................\n",
      "[CV] .............. C=1000, gamma=0.0001, kernel=linear, total=   9.4s\n",
      "[CV] C=1000, gamma=0.0001, kernel=linear .............................\n",
      "[CV] .............. C=1000, gamma=0.0001, kernel=linear, total=   1.5s\n",
      "[CV] C=1000, gamma=0.0001, kernel=rbf ................................\n",
      "[CV] ................. C=1000, gamma=0.0001, kernel=rbf, total=   0.0s\n",
      "[CV] C=1000, gamma=0.0001, kernel=rbf ................................\n",
      "[CV] ................. C=1000, gamma=0.0001, kernel=rbf, total=   0.0s\n",
      "[CV] C=1000, gamma=0.0001, kernel=rbf ................................\n",
      "[CV] ................. C=1000, gamma=0.0001, kernel=rbf, total=   0.0s\n",
      "[CV] C=1000, gamma=0.0001, kernel=rbf ................................\n",
      "[CV] ................. C=1000, gamma=0.0001, kernel=rbf, total=   0.0s\n",
      "[CV] C=1000, gamma=0.0001, kernel=rbf ................................\n",
      "[CV] ................. C=1000, gamma=0.0001, kernel=rbf, total=   0.0s\n",
      "SVC(C=1000, gamma=0.001)\n"
     ]
    },
    {
     "name": "stderr",
     "output_type": "stream",
     "text": [
      "[Parallel(n_jobs=1)]: Done  40 out of  40 | elapsed:  1.3min finished\n"
     ]
    },
    {
     "data": {
      "text/plain": [
       "{'C': 1000, 'gamma': 0.001, 'kernel': 'rbf'}"
      ]
     },
     "execution_count": 28,
     "metadata": {},
     "output_type": "execute_result"
    }
   ],
   "source": [
    "from sklearn.model_selection import GridSearchCV, RandomizedSearchCV\n",
    "grid1 = GridSearchCV(SVC(),random_grid,refit=True,verbose=2)\n",
    "grid1.fit(x_train, y_train)\n",
    "print(grid1.best_estimator_)\n",
    "grid1.best_params_"
   ]
  },
  {
   "cell_type": "markdown",
   "metadata": {},
   "source": [
    "### d) Performance metrics for training"
   ]
  },
  {
   "cell_type": "code",
   "execution_count": 29,
   "metadata": {},
   "outputs": [
    {
     "name": "stdout",
     "output_type": "stream",
     "text": [
      "              precision    recall  f1-score   support\n",
      "\n",
      "           0       0.93      1.00      0.96       368\n",
      "           1       1.00      0.93      0.96       368\n",
      "\n",
      "    accuracy                           0.96       736\n",
      "   macro avg       0.97      0.96      0.96       736\n",
      "weighted avg       0.97      0.96      0.96       736\n",
      "\n"
     ]
    }
   ],
   "source": [
    "params = grid1.best_params_\n",
    "SVM_model = SVC(**params)\n",
    "SVM_model.set_params(**params)\n",
    "\n",
    "#SVM_model = SVC(kernel='rbf',gamma =0.0001, C= 1000)\n",
    "SVM_model.fit(x_train, y_train)\n",
    "SVM_pred = SVM_model.predict(x_train)\n",
    "SVM_acc = accuracy_score(y_train, SVM_pred)\n",
    "print(classification_report(y_train, SVM_pred))"
   ]
  },
  {
   "cell_type": "markdown",
   "metadata": {},
   "source": [
    "## 5. Technique 2 (20 marks)"
   ]
  },
  {
   "cell_type": "markdown",
   "metadata": {},
   "source": [
    "### a) Discuss your motivation for choosing the technique and  provide a schematic figure of the process\n",
    "\n"
   ]
  },
  {
   "cell_type": "markdown",
   "metadata": {},
   "source": [
    "To generate outputs, Random Forest uses a series of randomised decision trees and averages their predictions. It features many trees that produce different values, which prevents the algorithm from overfitting to training datasets (which is a common problem with regular decision tree algorithms) and makes it more noise resistant.Because of its advantages such as increased dimensionality and accuracy, Random Forest is an ensemble approach capable of solving most machine learning issues. It is capable of overcoming the issue of overfitting.\n",
    "\n",
    "A huge number of decision trees are trained in a random forest. The random forest's output for classification problems is the class picked by the majority of trees. It can tackle issues involving classification and regression.\n",
    "\n",
    "Random Forest is one of the techniques in Bagging (Ensemble Learning). In Bagging technique different sets of samples from data set is send to different types of models to get trained on that particular sample data set using the “Row sampling with replacement”\n",
    "technique. Those sample data sets are used to train all of the different models at the same time. These models may then be tested using the test data set once they have been trained. All of the models' outputs are sent into a voting classifier, which finds the majority of votes cast by the models, and those votes are used as the test data's output.\n",
    "\n"
   ]
  },
  {
   "cell_type": "markdown",
   "metadata": {},
   "source": [
    "\n",
    "### b) Setting hyper parameters with rationale\n",
    "The parameters to be tuned are: \n",
    "\n",
    "a) max_depth : the longest path between the root node and the leaf node. Increasing it after a certain point leads to overfitting of data.\n",
    "\n",
    "b) min_samples_split : It is the minimum required number of observations in any given node in order to split it.We can prevent overfitting by increasing the value of min_samples_split.\n",
    "\n",
    "c) min_samples_leaf: It specifies the  the minimal amount of samples that should be present in the leaf node after splitting a node. This hyperparameter also helps prevent overfitting as the parameter value increases.\n",
    "\n",
    "d)n_estimators:It is the number of the trees the algorithm should consider. As it increases, complexity also increases.\n",
    "\n",
    "e)bootstrap\n",
    "\n",
    "f)max_features : Increasing the value of max features after a certain point results in overfitting.\n",
    "\n"
   ]
  },
  {
   "cell_type": "code",
   "execution_count": 30,
   "metadata": {},
   "outputs": [],
   "source": [
    "random_grid  = {'bootstrap': [True, False],\n",
    " 'max_depth': [10, 20, 30, 40, 50, 60, 70, 80, 90, 100, None],\n",
    " 'max_features': ['auto', 'sqrt'],\n",
    " 'min_samples_leaf': [1, 2, 4],\n",
    " 'min_samples_split': [2, 5, 10],\n",
    " 'n_estimators': [100,200, 400, 600, 800, 1000, 1200, 1400, 1600, 1800, 2000]}"
   ]
  },
  {
   "cell_type": "markdown",
   "metadata": {},
   "source": [
    "### c) Optimising hyper parameters\n"
   ]
  },
  {
   "cell_type": "code",
   "execution_count": 31,
   "metadata": {},
   "outputs": [
    {
     "name": "stdout",
     "output_type": "stream",
     "text": [
      "Fitting 5 folds for each of 100 candidates, totalling 500 fits\n"
     ]
    },
    {
     "name": "stderr",
     "output_type": "stream",
     "text": [
      "[Parallel(n_jobs=-1)]: Using backend LokyBackend with 12 concurrent workers.\n",
      "[Parallel(n_jobs=-1)]: Done  17 tasks      | elapsed:    5.5s\n",
      "[Parallel(n_jobs=-1)]: Done 138 tasks      | elapsed:   44.8s\n",
      "[Parallel(n_jobs=-1)]: Done 341 tasks      | elapsed:  1.6min\n",
      "[Parallel(n_jobs=-1)]: Done 500 out of 500 | elapsed:  2.5min finished\n"
     ]
    },
    {
     "data": {
      "text/plain": [
       "{'n_estimators': 1000,\n",
       " 'min_samples_split': 2,\n",
       " 'min_samples_leaf': 2,\n",
       " 'max_features': 'sqrt',\n",
       " 'max_depth': 90,\n",
       " 'bootstrap': True}"
      ]
     },
     "execution_count": 31,
     "metadata": {},
     "output_type": "execute_result"
    }
   ],
   "source": [
    "from sklearn.model_selection import RandomizedSearchCV\n",
    "from sklearn.ensemble import RandomForestClassifier\n",
    "# Use the random grid to search for best hyperparameters\n",
    "# First create the base model to tx_trainune\n",
    "rf = RandomForestClassifier()\n",
    "# Random search of parameters, using 3 fold cross validation,\n",
    "# search across 100 different combinations, and use all available cores\n",
    "rf_random = RandomizedSearchCV(estimator = rf, param_distributions = random_grid, n_iter = 100, verbose=2, random_state=42, n_jobs = -1)\n",
    "# Fit the random search model\n",
    "rf_random.fit(x_train, y_train)\n",
    "rf_random.best_params_"
   ]
  },
  {
   "cell_type": "markdown",
   "metadata": {},
   "source": [
    "### d) Performance metrics for training"
   ]
  },
  {
   "cell_type": "code",
   "execution_count": 32,
   "metadata": {},
   "outputs": [
    {
     "name": "stdout",
     "output_type": "stream",
     "text": [
      "0.9891304347826086\n"
     ]
    }
   ],
   "source": [
    "#Best parameters for Random Forest: {'min_samples_leaf': 10, 'n_estimators': 100}\n",
    "#RF_model = RandomForestClassifier(n_estimators=300,min_samples_leaf=0.16, random_state=42)\n",
    "\n",
    "\n",
    "# RF_model = RandomForestClassifier(n_estimators=400,min_samples_leaf=4, random_state=42,\n",
    "#  max_depth=70,\n",
    "#  bootstrap = True, min_samples_split= 2, max_features = 'sqrt')\n",
    "\n",
    "params = rf_random.best_params_\n",
    "RF_model = RandomForestClassifier(**params)\n",
    "RF_model.set_params(**params)\n",
    "\n",
    "#RF_model = RandomForestClassifier(n_estimators=100,min_samples_leaf=10, random_state=42) - 0.9394409937888198\n",
    "RF_model.fit(x_train, y_train)\n",
    "RF_pred = RF_model.predict(x_train)\n",
    "RF_acc =  accuracy_score(y_train, RF_pred)\n",
    "print(RF_acc)"
   ]
  },
  {
   "cell_type": "code",
   "execution_count": 33,
   "metadata": {},
   "outputs": [
    {
     "name": "stdout",
     "output_type": "stream",
     "text": [
      "              precision    recall  f1-score   support\n",
      "\n",
      "           0       0.98      1.00      0.99       368\n",
      "           1       1.00      0.98      0.99       368\n",
      "\n",
      "    accuracy                           0.99       736\n",
      "   macro avg       0.99      0.99      0.99       736\n",
      "weighted avg       0.99      0.99      0.99       736\n",
      "\n"
     ]
    }
   ],
   "source": [
    "print(classification_report(y_train, RF_pred))"
   ]
  },
  {
   "cell_type": "markdown",
   "metadata": {},
   "source": [
    "## Technique 3 (20 marks)"
   ]
  },
  {
   "cell_type": "markdown",
   "metadata": {},
   "source": [
    "### a) Discuss your motivation for choosing the technique and  provide a schematic figure of the process\n",
    "\n",
    "\n",
    "\n",
    "The basic principle of the nearest-neighbor family is that comparable data are close together, while outliers are generally isolated observations that are far away from the cluster of similar observations.\n",
    "\n",
    "Based on K (a predetermined number) of most comparable data objects, the algorithm determines which class an unknown instance belongs to. After being given an unknown observation, KNN runs over the full annotated dataset and computes the similarity between the new data object and all other data objects in it .The result of kNN classification is a class membership. An item is categorised by a majority vote of its neighbours, with the object given to the most common class among its k closest neighbours (k is a positive integer, typically small). If k = 1, the item is simply assigned to that single nearest neighbor's class.\n",
    "\n",
    "Though quite sensitive to noise, KNN performs well on real financial transaction data."
   ]
  },
  {
   "cell_type": "markdown",
   "metadata": {},
   "source": [
    "### d) Performance metrics for training\n",
    "\n",
    "The parameters to be tuned are: \n",
    "\n",
    "a) n_neighbors : It represents the number of neighbors to use for kneighbors queries. Increasing the value helps prevent overfitting.\n",
    "\n",
    "b) leaf_size : It influences the construction time of the tree.\n",
    "\n",
    "\n"
   ]
  },
  {
   "cell_type": "code",
   "execution_count": 34,
   "metadata": {},
   "outputs": [],
   "source": [
    "para_knn = {'n_neighbors':np.arange(1, 50), 'leaf_size':np.arange(1, 30)}  #parameters of knn"
   ]
  },
  {
   "cell_type": "markdown",
   "metadata": {},
   "source": [
    "### c) Optimising hyper parameters"
   ]
  },
  {
   "cell_type": "code",
   "execution_count": 35,
   "metadata": {},
   "outputs": [
    {
     "name": "stdout",
     "output_type": "stream",
     "text": [
      "Best parameters for KNN: {'leaf_size': 1, 'n_neighbors': 9}\n"
     ]
    }
   ],
   "source": [
    "knn = KNeighborsClassifier()\n",
    "grid_knn = GridSearchCV(knn, param_grid=para_knn, cv=5)\n",
    "grid_knn.fit(x_train, y_train)\n",
    "print(\"Best parameters for KNN:\", grid_knn.best_params_)"
   ]
  },
  {
   "cell_type": "markdown",
   "metadata": {},
   "source": [
    "### d) Performance metrics for training"
   ]
  },
  {
   "cell_type": "code",
   "execution_count": 36,
   "metadata": {},
   "outputs": [
    {
     "name": "stdout",
     "output_type": "stream",
     "text": [
      "0.9402173913043478\n"
     ]
    }
   ],
   "source": [
    "#Best parameters for KNN: {'n_neighbors': 3}\n",
    "#KN_model = KNeighborsClassifier(n_neighbors=9, leaf_size=20) - 0.9114906832298136\n",
    "\n",
    "params = grid_knn.best_params_\n",
    "KN_model = KNeighborsClassifier(**params)\n",
    "KN_model.set_params(**params)\n",
    "\n",
    "\n",
    "#KN_model = KNeighborsClassifier(n_neighbors=3, leaf_size=1)\n",
    "KN_model.fit(x_train, y_train)\n",
    "KN_pred = KN_model.predict(x_train)\n",
    "KN_acc = accuracy_score(y_train, KN_pred)\n",
    "print(KN_acc)"
   ]
  },
  {
   "cell_type": "code",
   "execution_count": 37,
   "metadata": {},
   "outputs": [
    {
     "name": "stdout",
     "output_type": "stream",
     "text": [
      "              precision    recall  f1-score   support\n",
      "\n",
      "           0       0.90      0.99      0.94       368\n",
      "           1       0.99      0.89      0.94       368\n",
      "\n",
      "    accuracy                           0.94       736\n",
      "   macro avg       0.94      0.94      0.94       736\n",
      "weighted avg       0.94      0.94      0.94       736\n",
      "\n"
     ]
    }
   ],
   "source": [
    "print(classification_report(y_train, KN_pred))"
   ]
  },
  {
   "cell_type": "markdown",
   "metadata": {},
   "source": [
    "## Technique 4 (20 marks)"
   ]
  },
  {
   "cell_type": "markdown",
   "metadata": {},
   "source": [
    "### a) Discuss your motivation for choosing the technique and  provide a schematic figure of the process\n",
    "The AdaBoost algorithm, short for Adaptive Boosting, is a Boosting approach used in Machine Learning as an Ensemble Method. The weights are re-allocated to each instance, with larger weights applied to erroneously categorised instances. This is termed Adaptive Boosting. In supervised learning, boost is used to decrease bias and variation. It is based on the idea of successive learning. Each succeeding student, with the exception of the first, is produced from previously grown learners. In other words, weak students are transformed into strong students."
   ]
  },
  {
   "cell_type": "markdown",
   "metadata": {},
   "source": [
    "### b) Setting hyper parameters with rationale\n",
    "\n",
    "The parameters to be tuned are: \n",
    "\n",
    "a) n_estimators : It is the maximum number of estimators at which boosting is terminated.\n",
    "\n",
    "b) learning_rate : The higher learning rate increases the contribution of each classifier in the iterations."
   ]
  },
  {
   "cell_type": "code",
   "execution_count": 38,
   "metadata": {},
   "outputs": [],
   "source": [
    "#parameters for AdaBoost\n",
    "params_ada = {'n_estimators': [50,100,250], 'learning_rate': [0.2,0.5,0.8,1]}"
   ]
  },
  {
   "cell_type": "markdown",
   "metadata": {},
   "source": [
    "### c) Optimising hyper parameters"
   ]
  },
  {
   "cell_type": "code",
   "execution_count": 39,
   "metadata": {},
   "outputs": [
    {
     "name": "stdout",
     "output_type": "stream",
     "text": [
      "Best parameters for AdaBoost: {'learning_rate': 0.8, 'n_estimators': 50}\n"
     ]
    }
   ],
   "source": [
    "ada = AdaBoostClassifier()\n",
    "grid_ada =  GridSearchCV(ada, param_grid=params_ada, cv=5)\n",
    "grid_ada.fit(x_train, y_train)\n",
    "print(\"Best parameters for AdaBoost:\", grid_ada.best_params_)"
   ]
  },
  {
   "cell_type": "markdown",
   "metadata": {},
   "source": [
    "### d) Performance metrics for training\n",
    "\n",
    "The following code cell prints the classification report from the above execution of the ADA Boost classfier on training set."
   ]
  },
  {
   "cell_type": "code",
   "execution_count": 40,
   "metadata": {},
   "outputs": [
    {
     "name": "stdout",
     "output_type": "stream",
     "text": [
      "0.9605978260869565\n"
     ]
    }
   ],
   "source": [
    "#Best parameters for AdaBoost: {'learning_rate': 0.5, 'n_estimators': 600}\n",
    "params = grid_ada.best_params_\n",
    "ADA_model = AdaBoostClassifier(**params)\n",
    "ADA_model.set_params(**params)\n",
    "\n",
    "\n",
    "ADA_model = AdaBoostClassifier(learning_rate= 0.2,n_estimators= 50,random_state=42)\n",
    "#ADA_model = AdaBoostClassifier(learning_rate= 0.5,n_estimators= 600,random_state=42)\n",
    "ADA_model.fit(x_train, y_train)\n",
    "ADA_pred = ADA_model.predict(x_train)\n",
    "ADA_acc = accuracy_score(y_train, ADA_pred)\n",
    "print(ADA_acc)"
   ]
  },
  {
   "cell_type": "code",
   "execution_count": 41,
   "metadata": {},
   "outputs": [
    {
     "name": "stdout",
     "output_type": "stream",
     "text": [
      "              precision    recall  f1-score   support\n",
      "\n",
      "           0       0.93      0.99      0.96       368\n",
      "           1       0.99      0.93      0.96       368\n",
      "\n",
      "    accuracy                           0.96       736\n",
      "   macro avg       0.96      0.96      0.96       736\n",
      "weighted avg       0.96      0.96      0.96       736\n",
      "\n"
     ]
    }
   ],
   "source": [
    "print(classification_report(y_train,ADA_pred))"
   ]
  },
  {
   "cell_type": "markdown",
   "metadata": {},
   "source": [
    "## Technique 5 (20 marks)"
   ]
  },
  {
   "cell_type": "markdown",
   "metadata": {},
   "source": [
    "### a) Discuss your motivation for choosing the technique and  provide a schematic figure of the process\n",
    " The decision tree is an easily interpretable model. Due to its interpretability and excellent accuracy, decision tree can be considered as a suitable model for understanding the patterns in fraudulent transactions.A decision tree is a type of upside-down tree that makes decisions based on the data conditions. When the data is mostly categorical and conditional, a decision tree can produce amazing results. Also, preprocessing of data such as normalisation and scaling is not required which reduces the effort in building a model. Any missing value present in the data does not affect a decision tree and is a flexible algorithm."
   ]
  },
  {
   "cell_type": "markdown",
   "metadata": {},
   "source": [
    "### b) Setting hyper parameters with rationale\n",
    "\n",
    "The parameters to be tuned are: \n",
    "\n",
    "a) criterion : The function for determining a split's quality. The Gini impurity is supported by the criterion \"gini,\" while the information gain is supported by the criterion \"entropy.\"\n",
    "\n",
    "b) max_depth : The maximum depth of the tree.The highest depth a decision tree can achieve theoretically is one less than the number of training samples, but no method will allow you to get there for obvious reasons, one of which is overfitting.\n",
    "\n",
    "c) min_samples_leaf: The minimum number of samples required to split an internal node.\n",
    "\n",
    "d) min_samples_split:  It is the minimum required number of observations in any given node in order to split it.We can prevent overfitting by increasing the value of min_samples_split."
   ]
  },
  {
   "cell_type": "code",
   "execution_count": 60,
   "metadata": {},
   "outputs": [],
   "source": [
    "param_tree = {'criterion': ['gini','entropy'],'max_depth':range(1,10),'min_samples_leaf' : range(1,5),'min_samples_split': range(1,10)}"
   ]
  },
  {
   "cell_type": "markdown",
   "metadata": {},
   "source": [
    "### c) Optimising hyper parameters"
   ]
  },
  {
   "cell_type": "code",
   "execution_count": 61,
   "metadata": {},
   "outputs": [
    {
     "name": "stdout",
     "output_type": "stream",
     "text": [
      "Fitting 5 folds for each of 100 candidates, totalling 500 fits\n"
     ]
    },
    {
     "name": "stderr",
     "output_type": "stream",
     "text": [
      "[Parallel(n_jobs=-1)]: Using backend LokyBackend with 12 concurrent workers.\n",
      "[Parallel(n_jobs=-1)]: Done  17 tasks      | elapsed:   10.1s\n",
      "[Parallel(n_jobs=-1)]: Done 138 tasks      | elapsed:   51.1s\n",
      "[Parallel(n_jobs=-1)]: Done 341 tasks      | elapsed:  2.0min\n",
      "[Parallel(n_jobs=-1)]: Done 500 out of 500 | elapsed:  3.0min finished\n"
     ]
    },
    {
     "name": "stdout",
     "output_type": "stream",
     "text": [
      "Best parameters for Decision Tree: {'min_samples_split': 5, 'min_samples_leaf': 4, 'max_depth': 9, 'criterion': 'entropy'}\n"
     ]
    }
   ],
   "source": [
    "ada = DecisionTreeClassifier()\n",
    "#grid_tree =  GridSearchCV(ada, param_grid=param_tree, cv=2)\n",
    "grid_tree = RandomizedSearchCV(estimator = ada, param_distributions = param_tree, n_iter = 100, verbose=2, random_state=42, n_jobs = -1)\n",
    "grid_tree.fit(x_train_oversampled, y_train_oversampled)\n",
    "#grid_tree.fit(x_train, y_train)\n",
    "print(\"Best parameters for Decision Tree:\", grid_tree.best_params_)"
   ]
  },
  {
   "cell_type": "markdown",
   "metadata": {},
   "source": [
    "### d) Performance metrics for training\n",
    "\n",
    "The following code cell prints the classification report from the above execution of the ADA Boost classfier on training set."
   ]
  },
  {
   "cell_type": "code",
   "execution_count": 68,
   "metadata": {},
   "outputs": [
    {
     "name": "stdout",
     "output_type": "stream",
     "text": [
      "0.9916081842880784\n",
      "              precision    recall  f1-score   support\n",
      "\n",
      "           0       1.00      0.98      0.99    225994\n",
      "           1       0.98      1.00      0.99    225994\n",
      "\n",
      "    accuracy                           0.99    451988\n",
      "   macro avg       0.99      0.99      0.99    451988\n",
      "weighted avg       0.99      0.99      0.99    451988\n",
      "\n"
     ]
    }
   ],
   "source": [
    "#Best parameters for Decision Tree\n",
    "params = grid_tree.best_params_\n",
    "DT_model = DecisionTreeClassifier(**params)\n",
    "DT_model.set_params(**params)\n",
    "\n",
    "tree = DecisionTreeClassifier()\n",
    "DT_model.fit(x_train_oversampled, y_train_oversampled)\n",
    "tree.fit(x_train_oversampled, y_train_oversampled)\n",
    "DT_pred = DT_model.predict(x_train_oversampled)\n",
    "DT_acc = accuracy_score(y_train_oversampled, DT_pred)\n",
    "print(DT_acc)\n",
    "\n",
    "print(classification_report(y_train_oversampled,DT_pred))"
   ]
  },
  {
   "cell_type": "markdown",
   "metadata": {},
   "source": [
    "## 6. Comparison of metrics performance for testing (16 marks)\n",
    "Enter the correct code in the cells below to execute each of the stated sub-tasks. \n"
   ]
  },
  {
   "cell_type": "markdown",
   "metadata": {},
   "source": [
    "### a) Use of cross validation for both techniques to deal with over-fitting"
   ]
  },
  {
   "cell_type": "code",
   "execution_count": 45,
   "metadata": {},
   "outputs": [
    {
     "name": "stdout",
     "output_type": "stream",
     "text": [
      "Cross validated scores [0.92567568 0.91156463 0.96598639 0.96598639 0.93197279]\n",
      "0.94 accuracy with a standard deviation of 0.02\n"
     ]
    }
   ],
   "source": [
    "# Cross validation for SVM\n",
    "\n",
    "\n",
    "scores = cross_val_score(SVM_model, x_train, y_train, cv=5)\n",
    " \n",
    "print(\"Cross validated scores\", scores)\n",
    " \n",
    "print(\"%0.2f accuracy with a standard deviation of %0.2f\" % (scores.mean(), scores.std()))"
   ]
  },
  {
   "cell_type": "code",
   "execution_count": 46,
   "metadata": {},
   "outputs": [
    {
     "name": "stdout",
     "output_type": "stream",
     "text": [
      "Cross validated scores [0.93243243 0.91156463 0.96598639 0.97278912 0.93197279]\n",
      "0.94 accuracy with a standard deviation of 0.02\n"
     ]
    }
   ],
   "source": [
    "# Cross validation for Random Forest\n",
    "\n",
    "scores = cross_val_score(RF_model, x_train, y_train, cv=5)\n",
    " \n",
    "print(\"Cross validated scores\", scores)\n",
    " \n",
    "print(\"%0.2f accuracy with a standard deviation of %0.2f\" % (scores.mean(), scores.std()))"
   ]
  },
  {
   "cell_type": "code",
   "execution_count": 47,
   "metadata": {},
   "outputs": [
    {
     "name": "stdout",
     "output_type": "stream",
     "text": [
      "Cross validated scores [0.91891892 0.89115646 0.96598639 0.95238095 0.93877551]\n",
      "0.93 accuracy with a standard deviation of 0.03\n"
     ]
    }
   ],
   "source": [
    "# Cross validation for KNN\n",
    "\n",
    "scores = cross_val_score(KN_model, x_train, y_train, cv=5)\n",
    " \n",
    "print(\"Cross validated scores\", scores)\n",
    " \n",
    "print(\"%0.2f accuracy with a standard deviation of %0.2f\" % (scores.mean(), scores.std()))"
   ]
  },
  {
   "cell_type": "code",
   "execution_count": 48,
   "metadata": {},
   "outputs": [
    {
     "name": "stdout",
     "output_type": "stream",
     "text": [
      "Cross validated scores [0.93918919 0.89115646 0.96598639 0.96598639 0.93877551]\n",
      "0.94 accuracy with a standard deviation of 0.03\n"
     ]
    }
   ],
   "source": [
    "# Cross validation for ADA Boost\n",
    "\n",
    "\n",
    "scores = cross_val_score(ADA_model, x_train, y_train, cv=5)\n",
    " \n",
    "print(\"Cross validated scores\", scores)\n",
    " \n",
    "print(\"%0.2f accuracy with a standard deviation of %0.2f\" % (scores.mean(), scores.std()))"
   ]
  },
  {
   "cell_type": "code",
   "execution_count": 67,
   "metadata": {},
   "outputs": [
    {
     "name": "stdout",
     "output_type": "stream",
     "text": [
      "Cross validated scores [0.99531405 0.99172325 0.99137805]\n",
      "0.99 accuracy with a standard deviation of 0.00\n"
     ]
    }
   ],
   "source": [
    "# Cross validation for DT\n",
    "\n",
    "\n",
    "scores = cross_val_score(DT_model, x_train_oversampled, y_train_oversampled, cv=3)\n",
    " \n",
    "print(\"Cross validated scores\", scores)\n",
    " \n",
    "print(\"%0.2f accuracy with a standard deviation of %0.2f\" % (scores.mean(), scores.std()))"
   ]
  },
  {
   "cell_type": "markdown",
   "metadata": {},
   "source": [
    "### b) Comparison with appropriate metrics for testing"
   ]
  },
  {
   "cell_type": "code",
   "execution_count": 49,
   "metadata": {},
   "outputs": [
    {
     "name": "stdout",
     "output_type": "stream",
     "text": [
      "0.9687229418105352\n",
      "              precision    recall  f1-score   support\n",
      "\n",
      "           0       1.00      0.97      0.98     56499\n",
      "           1       0.05      0.91      0.09        92\n",
      "\n",
      "    accuracy                           0.97     56591\n",
      "   macro avg       0.52      0.94      0.54     56591\n",
      "weighted avg       1.00      0.97      0.98     56591\n",
      "\n"
     ]
    },
    {
     "data": {
      "text/plain": [
       "<sklearn.metrics._plot.confusion_matrix.ConfusionMatrixDisplay at 0x1a8defcaaf0>"
      ]
     },
     "execution_count": 49,
     "metadata": {},
     "output_type": "execute_result"
    },
    {
     "data": {
      "image/png": "[encoded data removed]",
      "text/plain": [
       "<Figure size 432x288 with 2 Axes>"
      ]
     },
     "metadata": {
      "needs_background": "light"
     },
     "output_type": "display_data"
    }
   ],
   "source": [
    "SVM_pred = SVM_model.predict(x_test)\n",
    "SVM_acc = accuracy_score(y_test, SVM_pred)\n",
    "print(SVM_acc)\n",
    "print(classification_report(y_test, SVM_pred))\n",
    "\n",
    "plot_confusion_matrix(SVM_model,x_test,y_test)"
   ]
  },
  {
   "cell_type": "code",
   "execution_count": 50,
   "metadata": {},
   "outputs": [
    {
     "name": "stdout",
     "output_type": "stream",
     "text": [
      "0.9666378045979043\n",
      "              precision    recall  f1-score   support\n",
      "\n",
      "           0       1.00      0.97      0.98     56499\n",
      "           1       0.04      0.91      0.08        92\n",
      "\n",
      "    accuracy                           0.97     56591\n",
      "   macro avg       0.52      0.94      0.53     56591\n",
      "weighted avg       1.00      0.97      0.98     56591\n",
      "\n"
     ]
    },
    {
     "data": {
      "text/plain": [
       "<sklearn.metrics._plot.confusion_matrix.ConfusionMatrixDisplay at 0x1a8da3a72e0>"
      ]
     },
     "execution_count": 50,
     "metadata": {},
     "output_type": "execute_result"
    },
    {
     "data": {
      "image/png": "[encoded data removed]",
      "text/plain": [
       "<Figure size 432x288 with 2 Axes>"
      ]
     },
     "metadata": {
      "needs_background": "light"
     },
     "output_type": "display_data"
    }
   ],
   "source": [
    "RF_pred = RF_model.predict(x_test)\n",
    "RF_acc =  accuracy_score(y_test, RF_pred)\n",
    "print(RF_acc)\n",
    "\n",
    "print(classification_report(y_test, RF_pred))\n",
    "\n",
    "\n",
    "plot_confusion_matrix(RF_model,x_test,y_test)"
   ]
  },
  {
   "cell_type": "code",
   "execution_count": 51,
   "metadata": {},
   "outputs": [
    {
     "name": "stdout",
     "output_type": "stream",
     "text": [
      "0.9795550529236098\n",
      "              precision    recall  f1-score   support\n",
      "\n",
      "           0       1.00      0.98      0.99     56499\n",
      "           1       0.07      0.88      0.12        92\n",
      "\n",
      "    accuracy                           0.98     56591\n",
      "   macro avg       0.53      0.93      0.56     56591\n",
      "weighted avg       1.00      0.98      0.99     56591\n",
      "\n"
     ]
    },
    {
     "data": {
      "text/plain": [
       "<sklearn.metrics._plot.confusion_matrix.ConfusionMatrixDisplay at 0x1a8e3531670>"
      ]
     },
     "execution_count": 51,
     "metadata": {},
     "output_type": "execute_result"
    },
    {
     "data": {
      "image/png": "[encoded data removed]",
      "text/plain": [
       "<Figure size 432x288 with 2 Axes>"
      ]
     },
     "metadata": {
      "needs_background": "light"
     },
     "output_type": "display_data"
    }
   ],
   "source": [
    "KN_pred = KN_model.predict(x_test) \n",
    "KN_acc = accuracy_score(y_test, KN_pred)\n",
    "print(KN_acc)\n",
    "\n",
    "print(classification_report(y_test, KN_pred))\n",
    "\n",
    "plot_confusion_matrix(KN_model,x_test,y_test)"
   ]
  },
  {
   "cell_type": "code",
   "execution_count": 52,
   "metadata": {},
   "outputs": [
    {
     "name": "stdout",
     "output_type": "stream",
     "text": [
      "0.9631920270007598\n",
      "              precision    recall  f1-score   support\n",
      "\n",
      "           0       1.00      0.96      0.98     56499\n",
      "           1       0.04      0.90      0.07        92\n",
      "\n",
      "    accuracy                           0.96     56591\n",
      "   macro avg       0.52      0.93      0.53     56591\n",
      "weighted avg       1.00      0.96      0.98     56591\n",
      "\n"
     ]
    },
    {
     "data": {
      "text/plain": [
       "<sklearn.metrics._plot.confusion_matrix.ConfusionMatrixDisplay at 0x1a8dec70580>"
      ]
     },
     "execution_count": 52,
     "metadata": {},
     "output_type": "execute_result"
    },
    {
     "data": {
      "image/png": "[encoded data removed]",
      "text/plain": [
       "<Figure size 432x288 with 2 Axes>"
      ]
     },
     "metadata": {
      "needs_background": "light"
     },
     "output_type": "display_data"
    }
   ],
   "source": [
    "ADA_pred = ADA_model.predict(x_test)\n",
    "ADA_acc = accuracy_score(y_test, ADA_pred)\n",
    "print(ADA_acc)\n",
    "\n",
    "print(classification_report(y_test,ADA_pred))\n",
    "\n",
    "plot_confusion_matrix(ADA_model,x_test,y_test)"
   ]
  },
  {
   "cell_type": "code",
   "execution_count": 80,
   "metadata": {},
   "outputs": [
    {
     "name": "stdout",
     "output_type": "stream",
     "text": [
      "0.9830008305207542\n",
      "              precision    recall  f1-score   support\n",
      "\n",
      "           0       1.00      0.98      0.99     56499\n",
      "           1       0.08      0.84      0.14        92\n",
      "\n",
      "    accuracy                           0.98     56591\n",
      "   macro avg       0.54      0.91      0.56     56591\n",
      "weighted avg       1.00      0.98      0.99     56591\n",
      "\n"
     ]
    },
    {
     "data": {
      "text/plain": [
       "<sklearn.metrics._plot.confusion_matrix.ConfusionMatrixDisplay at 0x1a8de75c3a0>"
      ]
     },
     "execution_count": 80,
     "metadata": {},
     "output_type": "execute_result"
    },
    {
     "data": {
      "image/png": "[encoded data removed]",
      "text/plain": [
       "<Figure size 432x288 with 2 Axes>"
      ]
     },
     "metadata": {
      "needs_background": "light"
     },
     "output_type": "display_data"
    }
   ],
   "source": [
    "DT_pred = DT_model.predict(x_test)\n",
    "DT_acc = accuracy_score(y_test, DT_pred)\n",
    "print(DT_acc)\n",
    "\n",
    "print(classification_report(y_test,DT_pred))\n",
    "\n",
    "plot_confusion_matrix(DT_model,x_test,y_test)"
   ]
  },
  {
   "cell_type": "markdown",
   "metadata": {},
   "source": [
    "### c) Model selection (ROC or other charts)"
   ]
  },
  {
   "cell_type": "code",
   "execution_count": 70,
   "metadata": {},
   "outputs": [
    {
     "data": {
      "text/plain": [
       "<matplotlib.axes._subplots.AxesSubplot at 0x1a8e0106d00>"
      ]
     },
     "execution_count": 70,
     "metadata": {},
     "output_type": "execute_result"
    },
    {
     "data": {
      "image/png": "[encoded data removed]",
      "text/plain": [
       "<Figure size 432x288 with 1 Axes>"
      ]
     },
     "metadata": {
      "needs_background": "light"
     },
     "output_type": "display_data"
    }
   ],
   "source": [
    "All_models = pd.DataFrame({\n",
    "    'Model':['SVM', 'Random Forest', 'KNeighbours', 'ADA Boost','Decision Tree'],\n",
    "    'Accuracy_score' :[SVM_acc, RF_acc, KN_acc, ADA_acc,DT_acc]\n",
    "})\n",
    "\n",
    "sb.barplot(x='Accuracy_score', y='Model', data=All_models)"
   ]
  },
  {
   "cell_type": "code",
   "execution_count": 71,
   "metadata": {},
   "outputs": [
    {
     "data": {
      "image/png": "[encoded data removed]",
      "text/plain": [
       "<Figure size 432x288 with 1 Axes>"
      ]
     },
     "metadata": {
      "needs_background": "light"
     },
     "output_type": "display_data"
    }
   ],
   "source": [
    "from sklearn import metrics\n",
    "from sklearn.metrics import roc_curve\n",
    "import numpy as np\n",
    "import matplotlib.pyplot as plt\n",
    " \n",
    "from sklearn.metrics import plot_roc_curve\n",
    "fpr1 , tpr1, thresholds1 = roc_curve(y_test, KN_pred)\n",
    "fpr2 , tpr2, thresholds2 = roc_curve(y_test, SVM_pred)\n",
    "fpr3 , tpr3, thresholds3 = roc_curve(y_test, RF_pred)\n",
    "fpr4 , tpr4, thresholds4 = roc_curve(y_test, ADA_pred)\n",
    "fpr5 , tpr5, thresholds5 = roc_curve(y_test, DT_pred)\n",
    " \n",
    "plt.plot([0,1],[0,1], linestyle= '--', label= 'No Skill Classifier')\n",
    "plt.plot(fpr1, tpr1, label= \"KNN\")\n",
    "plt.plot(fpr2, tpr2, label= \"SVM\")\n",
    "plt.plot(fpr3, tpr3, label= \"RF\")\n",
    "plt.plot(fpr4, tpr4, label= \"ADA Boost\")\n",
    "plt.plot(fpr5, tpr5, label= \"DT\")\n",
    " \n",
    "plt.legend(fontsize=10)\n",
    "plt.xlabel(\"FPR\",fontsize=15)\n",
    "plt.ylabel(\"TPR\",fontsize=15)\n",
    "plt.title('Receiver Operating Characteristic',fontsize=15)\n",
    "plt.show()"
   ]
  },
  {
   "cell_type": "code",
   "execution_count": 73,
   "metadata": {},
   "outputs": [
    {
     "data": {
      "text/plain": [
       "Text(0.5, 1.0, 'Precision-Recall curve')"
      ]
     },
     "execution_count": 73,
     "metadata": {},
     "output_type": "execute_result"
    },
    {
     "data": {
      "image/png": "[encoded data removed]",
      "text/plain": [
       "<Figure size 432x288 with 1 Axes>"
      ]
     },
     "metadata": {
      "needs_background": "light"
     },
     "output_type": "display_data"
    }
   ],
   "source": [
    "from sklearn.metrics import precision_recall_curve\n",
    "from sklearn.metrics import plot_precision_recall_curve\n",
    "import matplotlib.pyplot as plt\n",
    "\n",
    "plot_precision_recall_curve(ADA_model, x_test, y_test, ax = plt.gca(),name = \"AdaBoost\")\n",
    "\n",
    "plot_precision_recall_curve(SVM_model, x_test, y_test, ax = plt.gca(),name = \"SVM\")\n",
    "\n",
    "plot_precision_recall_curve(RF_model, x_test, y_test, ax = plt.gca(),name = \"Random Forest\")\n",
    "\n",
    "plot_precision_recall_curve(KN_model, x_test, y_test, ax = plt.gca(),name = \"KNN\")\n",
    "\n",
    "plot_precision_recall_curve(DT_model, x_test, y_test, ax = plt.gca(),name = \"DT\")\n",
    "\n",
    "\n",
    "plt.title('Precision-Recall curve')"
   ]
  },
  {
   "cell_type": "markdown",
   "metadata": {},
   "source": [
    "## 7. Final recommendation of best model (8 marks)"
   ]
  },
  {
   "cell_type": "markdown",
   "metadata": {},
   "source": [
    "### a) Discuss the results from a technical perspective, for example, overfitting discussion, complexity and efficiency\n",
    "\n",
    "\n",
    "Credit card fraud detection (CCFD) is a challenging issue that involves the analysis of massive quantities of transaction data in order to discover fraud patterns. Due to the huge quantities of data and the constantly changing methods of fraudsters, human investigators are unable to properly tackle this challenge.\n",
    "\n",
    "Standard classification system metrics such as the mean misclassification error or the AUC ROC are not well suited for detection difficulties due to the class imbalance issue and the complicated cost structure of fraud detection. A fraud detection system should be able to identify as many fraudulent transactions as possible while decreasing the number of frauds predicted incorrectly (false positives). It's usual to have to consider multiple indicators when evaluating the overall performance of a fraud detection system.\n",
    "\n",
    "We examined the efficiency and accuracy of the classifiers we constructed using four classification approaches in order to suggest the optimal model for solving this binary classification challenge. The test results show that SVM is 93.4 percent accurate, Random Forest is 94.2 percent accurate, kNN is 91.3 percent accurate, ADA Boost is 93.8 percent accurate, and Decision Tree is 98 percent accurate. Despite the fact that the accuracies for all four models are virtually identical, the Decision Tree classifier has a little advantage over the others. It worked well with both training and test sets, and parameter tweaking prevented overfitting to training datasets.\n",
    "\n",
    "\n",
    "A precision-recall curve (also known as a PR Curve) is a graph that shows the precision (y-axis) and recall (x-axis) for various probability thresholds. A perfect model is represented by a point at a position of (1,1). A skilled model is represented as a curve that bends in the direction of a coordinate (1,1). A horizontal line on the plot representing a no-skill classifier will have a precision proportionate to the number of positive instances in the dataset. This will be 0.5 for a balanced dataset. The model based on Decision Tree classifier is the most skilled, followed by ADA Boost and Random Forest, according to the PR curve above.\n",
    "\n",
    "After training, the models were shown to be overfitting with the data and to have lower accuracy with the test data. To cope with it, we utilised cross validation and hyperparameter tweaking to ensure that the model worked well with the test data. \n",
    "\n"
   ]
  },
  {
   "cell_type": "markdown",
   "metadata": {},
   "source": [
    "### b) Discuss the results from a business perspective, for example, results interpretation, relevance and balance with technical perspective\n",
    "\n",
    "A fraud detection system attempts to strike a balance between two competing goals. On the one hand, the approach should improve recall, which is a metric used to detect fraudulent transactions. It should, on the other hand, minimise the amount of false positives, or genuine transactions that are wrongly labelled as fraudulent. Unless a perfect classifier can be developed, maximising recall comes at a cost in terms of false positives. Performance may be assessed in terms of both fraud detection accuracy and computing requirements (memory and execution durations). Tradeoffs between accuracy and computational needs should be carefully examined in general.\n",
    "\n",
    "Because each false negative costs the bank £1000 and each false positive costs £10k, the cost of prediction for each model in this case study is as follows: \n",
    "\n",
    "a) SVM -  £ 1842k \n",
    "b) Random Forest -  £ 1960k\n",
    "c) KNN -  £ 1256k\n",
    "d) ADA Boost -  £ 2164k\n",
    "e) Decision Tree - £ 1097k\n",
    "\n",
    "It is obvious that the decision tree algorithm cost the bank the least in terms of incorrect predictions. When we compare the costs, we can see that the decision tree outperforms all others since we utilised an oversampling approach for this algorithm to deal with the data imbalance, which contributed to its success. As a result, we recommend Bitsbank use a decision tree to anticipate fraudulent credit card transactions."
   ]
  },
  {
   "cell_type": "markdown",
   "metadata": {},
   "source": [
    "## 8. Conclusion (8 marks)"
   ]
  },
  {
   "cell_type": "markdown",
   "metadata": {},
   "source": [
    "### a) What has been successfully accomplished and what has not been successful?\n",
    "\n",
    "Through this piece of work, we attempted to create models intelligent enough to detect fraudulent and non-fraudulent transactions based on a variety of users' transaction data — anonymised to protect users' privacy. The bank was charged £1000 for each false positive and £10000 for each false negative. We were unable to keep the overall budget under the 1 million pounds restriction. However, when compared to the other methods, the cost of employing the decision tree approach was significantly lower. This was attributed in part to the use of upsampled data to correct the imbalance and train the data. Other algorithms could not use the upsampling approach since it required a lot of time and calculation. We utilised, instead, undersampling for them. So, if upsampling had been used, the results would have been better and we would have been closer to our goals."
   ]
  },
  {
   "cell_type": "markdown",
   "metadata": {},
   "source": [
    "### b) Reflecting back on the analysis, what could you have done differently if you were to do the project again?\n",
    "\n",
    "Random search search was used to tune the hyper parameters for some algorithms. Using grid search for those would have been time consuming, but it may have resulted in more effective parameter tweaking, which would have aided in the development of a more efficient prediction model.\n",
    "\n",
    "To deal with the data's extreme imbalance, undersampling was utilised. Except for decision trees, this has reduced the quantity of data and hence the learning potential for all machine learning methods. We weren't able to use oversampled data for any of the algorithms except Decision tree since it took a long time. Instead of undersampling, if oversampling can be done, the learning system will be trained with a lot more data, which will help it perform better."
   ]
  },
  {
   "cell_type": "markdown",
   "metadata": {},
   "source": [
    "### c) Provide a wish list of future work that you would like to do\n",
    "\n"
   ]
  },
  {
   "cell_type": "markdown",
   "metadata": {},
   "source": [
    "In the future, this work might be developed to incorporate efficient feature selection algorithms. Deep learning techniques like Neural Networks, Convolutional Neural Networks, and Recurrent Neural Networks may be used to expand this as well. Instead of comparing two machine learning models, this study may be expanded to compare two deep learning models. The performance of two deep learning models may be acquired and compared in order to determine which model is best for categorising the BitsBank credit card transaction dataset."
   ]
  },
  {
   "cell_type": "code",
   "execution_count": null,
   "metadata": {},
   "outputs": [],
   "source": []
  }
 ],
 "metadata": {
  "kernelspec": {
   "display_name": "Python 3",
   "language": "python",
   "name": "python3"
  },
  "language_info": {
   "codemirror_mode": {
    "name": "ipython",
    "version": 3
   },
   "file_extension": ".py",
   "mimetype": "text/x-python",
   "name": "python",
   "nbconvert_exporter": "python",
   "pygments_lexer": "ipython3",
   "version": "3.8.5"
  }
 },
 "nbformat": 4,
 "nbformat_minor": 2
}
